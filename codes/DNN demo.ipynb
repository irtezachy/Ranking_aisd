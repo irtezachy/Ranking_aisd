{
 "cells": [
  {
   "cell_type": "markdown",
   "metadata": {
    "id": "f4dpxTTFCNQi"
   },
   "source": [
    "## Loading the libraries"
   ]
  },
  {
   "cell_type": "code",
   "execution_count": 1,
   "metadata": {
    "id": "pK__TGE8ABxK"
   },
   "outputs": [],
   "source": [
    "import os\n",
    "import numpy as np\n",
    "import pandas as pd\n",
    "import matplotlib.pyplot as plt\n",
    "from sklearn.model_selection import train_test_split\n",
    "from sklearn.preprocessing import LabelEncoder"
   ]
  },
  {
   "cell_type": "code",
   "execution_count": 2,
   "metadata": {
    "id": "uKKckGQngZKP"
   },
   "outputs": [],
   "source": [
    "# from keras.models import Model\n",
    "# from keras.layers import Input, Reshape, Dot\n",
    "# from keras.layers.embeddings import Embedding\n",
    "# from keras.optimizers import Adam\n",
    "# from keras.regularizers import l2\n",
    "# from keras.layers import Concatenate, Dense, Dropout\n",
    "# from keras.layers import Add, Activation, Lambda\n",
    "\n",
    "import tensorflow as tf\n",
    "import keras\n",
    "from pprint import pprint"
   ]
  },
  {
   "cell_type": "code",
   "execution_count": 3,
   "metadata": {
    "id": "CEwzA81KOtn8"
   },
   "outputs": [],
   "source": [
    "DATASET_LINK='http://files.grouplens.org/datasets/movielens/ml-100k.zip'"
   ]
  },
  {
   "cell_type": "code",
   "execution_count": 4,
   "metadata": {
    "colab": {
     "base_uri": "https://localhost:8080/"
    },
    "id": "_toQkgU7Ot8r",
    "outputId": "e9ca5b39-c7b4-487d-8e0c-f22dbd46787b"
   },
   "outputs": [
    {
     "name": "stdout",
     "output_type": "stream",
     "text": [
      "Archive:  ml-100k.zip\n"
     ]
    }
   ],
   "source": [
    "# !wget -nc http://files.grouplens.org/datasets/movielens/ml-100k.zip\n",
    "!unzip -n ml-100k.zip"
   ]
  },
  {
   "cell_type": "markdown",
   "metadata": {
    "id": "o7aPc6R_O1S9"
   },
   "source": [
    "#Loading MovieLens dataset"
   ]
  },
  {
   "cell_type": "markdown",
   "metadata": {
    "id": "FZ-rNaLsO8Mj"
   },
   "source": [
    "Loading u.info -- The number of users, items, and ratings in the u data set."
   ]
  },
  {
   "cell_type": "code",
   "execution_count": 5,
   "metadata": {
    "colab": {
     "base_uri": "https://localhost:8080/"
    },
    "id": "1IV3uY7hOvvF",
    "outputId": "76a13a9a-6b1b-471c-ecc1-d96e21265fc3"
   },
   "outputs": [
    {
     "name": "stdout",
     "output_type": "stream",
     "text": [
      "Details of users, items and ratings involved in the loaded movielens dataset:  ['943 users', '1682 items', '100000 ratings']\n"
     ]
    }
   ],
   "source": [
    "overall_stats = pd.read_csv('ml-100k/u.info', header=None)\n",
    "print(\"Details of users, items and ratings involved in the loaded movielens dataset: \",list(overall_stats[0]))"
   ]
  },
  {
   "cell_type": "markdown",
   "metadata": {
    "id": "pm6F7DFUPPWP"
   },
   "source": [
    "Loading u.data     -- The full u data set, 100000 ratings by 943 users on 1682 items.\n",
    "\n",
    "---\n",
    "\n",
    "\n",
    "\n",
    "              Each user has rated at least 20 movies.  Users and items are\n",
    "              numbered consecutively from 1.  The data is randomly ordered. This is a tab separated list of \n",
    "\t         user id | item id | rating | timestamp. \n",
    "              The time stamps are unix seconds since 1/1/1970 UTC "
   ]
  },
  {
   "cell_type": "code",
   "execution_count": 6,
   "metadata": {
    "colab": {
     "base_uri": "https://localhost:8080/",
     "height": 195
    },
    "id": "_Dm64PwPO89K",
    "outputId": "0ae36ed1-adf8-4dd7-ac16-8c9473e20eba"
   },
   "outputs": [
    {
     "data": {
      "text/html": [
       "<div>\n",
       "<style scoped>\n",
       "    .dataframe tbody tr th:only-of-type {\n",
       "        vertical-align: middle;\n",
       "    }\n",
       "\n",
       "    .dataframe tbody tr th {\n",
       "        vertical-align: top;\n",
       "    }\n",
       "\n",
       "    .dataframe thead th {\n",
       "        text-align: right;\n",
       "    }\n",
       "</style>\n",
       "<table border=\"1\" class=\"dataframe\">\n",
       "  <thead>\n",
       "    <tr style=\"text-align: right;\">\n",
       "      <th></th>\n",
       "      <th>user id</th>\n",
       "      <th>movie id</th>\n",
       "      <th>rating</th>\n",
       "      <th>timestamp</th>\n",
       "    </tr>\n",
       "  </thead>\n",
       "  <tbody>\n",
       "    <tr>\n",
       "      <th>0</th>\n",
       "      <td>196</td>\n",
       "      <td>242</td>\n",
       "      <td>3</td>\n",
       "      <td>881250949</td>\n",
       "    </tr>\n",
       "    <tr>\n",
       "      <th>1</th>\n",
       "      <td>186</td>\n",
       "      <td>302</td>\n",
       "      <td>3</td>\n",
       "      <td>891717742</td>\n",
       "    </tr>\n",
       "    <tr>\n",
       "      <th>2</th>\n",
       "      <td>22</td>\n",
       "      <td>377</td>\n",
       "      <td>1</td>\n",
       "      <td>878887116</td>\n",
       "    </tr>\n",
       "    <tr>\n",
       "      <th>3</th>\n",
       "      <td>244</td>\n",
       "      <td>51</td>\n",
       "      <td>2</td>\n",
       "      <td>880606923</td>\n",
       "    </tr>\n",
       "    <tr>\n",
       "      <th>4</th>\n",
       "      <td>166</td>\n",
       "      <td>346</td>\n",
       "      <td>1</td>\n",
       "      <td>886397596</td>\n",
       "    </tr>\n",
       "  </tbody>\n",
       "</table>\n",
       "</div>"
      ],
      "text/plain": [
       "   user id  movie id  rating  timestamp\n",
       "0      196       242       3  881250949\n",
       "1      186       302       3  891717742\n",
       "2       22       377       1  878887116\n",
       "3      244        51       2  880606923\n",
       "4      166       346       1  886397596"
      ]
     },
     "execution_count": 6,
     "metadata": {},
     "output_type": "execute_result"
    }
   ],
   "source": [
    "## same item id is same as movie id, item id column is renamed as movie id\n",
    "column_names1 = ['user id','movie id','rating','timestamp']\n",
    "ratings_dataset = pd.read_csv('ml-100k/u.data', sep='\\t',header=None,names=column_names1)\n",
    "ratings_dataset.head() "
   ]
  },
  {
   "cell_type": "markdown",
   "metadata": {
    "id": "PAp4VVTwR6Pz"
   },
   "source": [
    "Loading u.item     -- Information about the items (movies); this is a tab separated\n",
    "\n",
    "              list of\n",
    "              movie id | movie title | release date | video release date |\n",
    "              IMDb URL | unknown | Action | Adventure | Animation |\n",
    "              Children's | Comedy | Crime | Documentary | Drama | Fantasy |\n",
    "              Film-Noir | Horror | Musical | Mystery | Romance | Sci-Fi |\n",
    "              Thriller | War | Western |\n",
    "              The last 19 fields are the genres, a 1 indicates the movie\n",
    "              is of that genre, a 0 indicates it is not; movies can be in\n",
    "              several genres at once.\n",
    "              The movie ids are the ones used in the u.data data set.\n"
   ]
  },
  {
   "cell_type": "code",
   "execution_count": 7,
   "metadata": {
    "colab": {
     "base_uri": "https://localhost:8080/"
    },
    "id": "1qxF6i4zRMGj",
    "outputId": "efd387b6-12e4-4520-f634-16143d3e874e"
   },
   "outputs": [
    {
     "name": "stdout",
     "output_type": "stream",
     "text": [
      "['movie id', 'movie title', 'release date', 'video release date', 'IMDb URL', 'unknown', 'Action', 'Adventure', 'Animation', 'Children', 'Comedy', 'Crime', 'Documentary', 'Drama', 'Fantasy', 'Film-Noir', 'Horror', 'Musical', 'Mystery', 'Romance', 'Sci-Fi', 'Thriller', 'War', 'Western']\n"
     ]
    }
   ],
   "source": [
    "d = 'movie id | movie title | release date | video release date | IMDb URL | unknown | Action | Adventure | Animation | Children | Comedy | Crime | Documentary | Drama | Fantasy | Film-Noir | Horror | Musical | Mystery | Romance | Sci-Fi | Thriller | War | Western'\n",
    "column_names2 = d.split(' | ')\n",
    "print(column_names2)"
   ]
  },
  {
   "cell_type": "code",
   "execution_count": 8,
   "metadata": {
    "colab": {
     "base_uri": "https://localhost:8080/",
     "height": 366
    },
    "id": "fZKhPm9dRqvR",
    "outputId": "44f3ae94-9e6d-4da4-d9d0-1596f6de2699"
   },
   "outputs": [
    {
     "data": {
      "text/html": [
       "<div>\n",
       "<style scoped>\n",
       "    .dataframe tbody tr th:only-of-type {\n",
       "        vertical-align: middle;\n",
       "    }\n",
       "\n",
       "    .dataframe tbody tr th {\n",
       "        vertical-align: top;\n",
       "    }\n",
       "\n",
       "    .dataframe thead th {\n",
       "        text-align: right;\n",
       "    }\n",
       "</style>\n",
       "<table border=\"1\" class=\"dataframe\">\n",
       "  <thead>\n",
       "    <tr style=\"text-align: right;\">\n",
       "      <th></th>\n",
       "      <th>movie id</th>\n",
       "      <th>movie title</th>\n",
       "      <th>release date</th>\n",
       "      <th>video release date</th>\n",
       "      <th>IMDb URL</th>\n",
       "      <th>unknown</th>\n",
       "      <th>Action</th>\n",
       "      <th>Adventure</th>\n",
       "      <th>Animation</th>\n",
       "      <th>Children</th>\n",
       "      <th>...</th>\n",
       "      <th>Fantasy</th>\n",
       "      <th>Film-Noir</th>\n",
       "      <th>Horror</th>\n",
       "      <th>Musical</th>\n",
       "      <th>Mystery</th>\n",
       "      <th>Romance</th>\n",
       "      <th>Sci-Fi</th>\n",
       "      <th>Thriller</th>\n",
       "      <th>War</th>\n",
       "      <th>Western</th>\n",
       "    </tr>\n",
       "  </thead>\n",
       "  <tbody>\n",
       "    <tr>\n",
       "      <th>0</th>\n",
       "      <td>1</td>\n",
       "      <td>Toy Story (1995)</td>\n",
       "      <td>01-Jan-1995</td>\n",
       "      <td>NaN</td>\n",
       "      <td>http://us.imdb.com/M/title-exact?Toy%20Story%2...</td>\n",
       "      <td>0</td>\n",
       "      <td>0</td>\n",
       "      <td>0</td>\n",
       "      <td>1</td>\n",
       "      <td>1</td>\n",
       "      <td>...</td>\n",
       "      <td>0</td>\n",
       "      <td>0</td>\n",
       "      <td>0</td>\n",
       "      <td>0</td>\n",
       "      <td>0</td>\n",
       "      <td>0</td>\n",
       "      <td>0</td>\n",
       "      <td>0</td>\n",
       "      <td>0</td>\n",
       "      <td>0</td>\n",
       "    </tr>\n",
       "    <tr>\n",
       "      <th>1</th>\n",
       "      <td>2</td>\n",
       "      <td>GoldenEye (1995)</td>\n",
       "      <td>01-Jan-1995</td>\n",
       "      <td>NaN</td>\n",
       "      <td>http://us.imdb.com/M/title-exact?GoldenEye%20(...</td>\n",
       "      <td>0</td>\n",
       "      <td>1</td>\n",
       "      <td>1</td>\n",
       "      <td>0</td>\n",
       "      <td>0</td>\n",
       "      <td>...</td>\n",
       "      <td>0</td>\n",
       "      <td>0</td>\n",
       "      <td>0</td>\n",
       "      <td>0</td>\n",
       "      <td>0</td>\n",
       "      <td>0</td>\n",
       "      <td>0</td>\n",
       "      <td>1</td>\n",
       "      <td>0</td>\n",
       "      <td>0</td>\n",
       "    </tr>\n",
       "    <tr>\n",
       "      <th>2</th>\n",
       "      <td>3</td>\n",
       "      <td>Four Rooms (1995)</td>\n",
       "      <td>01-Jan-1995</td>\n",
       "      <td>NaN</td>\n",
       "      <td>http://us.imdb.com/M/title-exact?Four%20Rooms%...</td>\n",
       "      <td>0</td>\n",
       "      <td>0</td>\n",
       "      <td>0</td>\n",
       "      <td>0</td>\n",
       "      <td>0</td>\n",
       "      <td>...</td>\n",
       "      <td>0</td>\n",
       "      <td>0</td>\n",
       "      <td>0</td>\n",
       "      <td>0</td>\n",
       "      <td>0</td>\n",
       "      <td>0</td>\n",
       "      <td>0</td>\n",
       "      <td>1</td>\n",
       "      <td>0</td>\n",
       "      <td>0</td>\n",
       "    </tr>\n",
       "    <tr>\n",
       "      <th>3</th>\n",
       "      <td>4</td>\n",
       "      <td>Get Shorty (1995)</td>\n",
       "      <td>01-Jan-1995</td>\n",
       "      <td>NaN</td>\n",
       "      <td>http://us.imdb.com/M/title-exact?Get%20Shorty%...</td>\n",
       "      <td>0</td>\n",
       "      <td>1</td>\n",
       "      <td>0</td>\n",
       "      <td>0</td>\n",
       "      <td>0</td>\n",
       "      <td>...</td>\n",
       "      <td>0</td>\n",
       "      <td>0</td>\n",
       "      <td>0</td>\n",
       "      <td>0</td>\n",
       "      <td>0</td>\n",
       "      <td>0</td>\n",
       "      <td>0</td>\n",
       "      <td>0</td>\n",
       "      <td>0</td>\n",
       "      <td>0</td>\n",
       "    </tr>\n",
       "    <tr>\n",
       "      <th>4</th>\n",
       "      <td>5</td>\n",
       "      <td>Copycat (1995)</td>\n",
       "      <td>01-Jan-1995</td>\n",
       "      <td>NaN</td>\n",
       "      <td>http://us.imdb.com/M/title-exact?Copycat%20(1995)</td>\n",
       "      <td>0</td>\n",
       "      <td>0</td>\n",
       "      <td>0</td>\n",
       "      <td>0</td>\n",
       "      <td>0</td>\n",
       "      <td>...</td>\n",
       "      <td>0</td>\n",
       "      <td>0</td>\n",
       "      <td>0</td>\n",
       "      <td>0</td>\n",
       "      <td>0</td>\n",
       "      <td>0</td>\n",
       "      <td>0</td>\n",
       "      <td>1</td>\n",
       "      <td>0</td>\n",
       "      <td>0</td>\n",
       "    </tr>\n",
       "  </tbody>\n",
       "</table>\n",
       "<p>5 rows × 24 columns</p>\n",
       "</div>"
      ],
      "text/plain": [
       "   movie id        movie title release date  video release date  \\\n",
       "0         1   Toy Story (1995)  01-Jan-1995                 NaN   \n",
       "1         2   GoldenEye (1995)  01-Jan-1995                 NaN   \n",
       "2         3  Four Rooms (1995)  01-Jan-1995                 NaN   \n",
       "3         4  Get Shorty (1995)  01-Jan-1995                 NaN   \n",
       "4         5     Copycat (1995)  01-Jan-1995                 NaN   \n",
       "\n",
       "                                            IMDb URL  unknown  Action  \\\n",
       "0  http://us.imdb.com/M/title-exact?Toy%20Story%2...        0       0   \n",
       "1  http://us.imdb.com/M/title-exact?GoldenEye%20(...        0       1   \n",
       "2  http://us.imdb.com/M/title-exact?Four%20Rooms%...        0       0   \n",
       "3  http://us.imdb.com/M/title-exact?Get%20Shorty%...        0       1   \n",
       "4  http://us.imdb.com/M/title-exact?Copycat%20(1995)        0       0   \n",
       "\n",
       "   Adventure  Animation  Children  ...  Fantasy  Film-Noir  Horror  Musical  \\\n",
       "0          0          1         1  ...        0          0       0        0   \n",
       "1          1          0         0  ...        0          0       0        0   \n",
       "2          0          0         0  ...        0          0       0        0   \n",
       "3          0          0         0  ...        0          0       0        0   \n",
       "4          0          0         0  ...        0          0       0        0   \n",
       "\n",
       "   Mystery  Romance  Sci-Fi  Thriller  War  Western  \n",
       "0        0        0       0         0    0        0  \n",
       "1        0        0       0         1    0        0  \n",
       "2        0        0       0         1    0        0  \n",
       "3        0        0       0         0    0        0  \n",
       "4        0        0       0         1    0        0  \n",
       "\n",
       "[5 rows x 24 columns]"
      ]
     },
     "execution_count": 8,
     "metadata": {},
     "output_type": "execute_result"
    }
   ],
   "source": [
    "items_dataset = pd.read_csv('ml-100k/u.item', sep='|',header=None,names=column_names2,encoding='latin-1')\n",
    "items_dataset.head()"
   ]
  },
  {
   "cell_type": "code",
   "execution_count": 9,
   "metadata": {
    "colab": {
     "base_uri": "https://localhost:8080/",
     "height": 195
    },
    "id": "zjMViWz_SDlJ",
    "outputId": "3fa38eec-61c4-41c7-c363-cbcbaebee253"
   },
   "outputs": [
    {
     "data": {
      "text/html": [
       "<div>\n",
       "<style scoped>\n",
       "    .dataframe tbody tr th:only-of-type {\n",
       "        vertical-align: middle;\n",
       "    }\n",
       "\n",
       "    .dataframe tbody tr th {\n",
       "        vertical-align: top;\n",
       "    }\n",
       "\n",
       "    .dataframe thead th {\n",
       "        text-align: right;\n",
       "    }\n",
       "</style>\n",
       "<table border=\"1\" class=\"dataframe\">\n",
       "  <thead>\n",
       "    <tr style=\"text-align: right;\">\n",
       "      <th></th>\n",
       "      <th>movie id</th>\n",
       "      <th>movie title</th>\n",
       "    </tr>\n",
       "  </thead>\n",
       "  <tbody>\n",
       "    <tr>\n",
       "      <th>0</th>\n",
       "      <td>1</td>\n",
       "      <td>Toy Story (1995)</td>\n",
       "    </tr>\n",
       "    <tr>\n",
       "      <th>1</th>\n",
       "      <td>2</td>\n",
       "      <td>GoldenEye (1995)</td>\n",
       "    </tr>\n",
       "    <tr>\n",
       "      <th>2</th>\n",
       "      <td>3</td>\n",
       "      <td>Four Rooms (1995)</td>\n",
       "    </tr>\n",
       "    <tr>\n",
       "      <th>3</th>\n",
       "      <td>4</td>\n",
       "      <td>Get Shorty (1995)</td>\n",
       "    </tr>\n",
       "    <tr>\n",
       "      <th>4</th>\n",
       "      <td>5</td>\n",
       "      <td>Copycat (1995)</td>\n",
       "    </tr>\n",
       "  </tbody>\n",
       "</table>\n",
       "</div>"
      ],
      "text/plain": [
       "   movie id        movie title\n",
       "0         1   Toy Story (1995)\n",
       "1         2   GoldenEye (1995)\n",
       "2         3  Four Rooms (1995)\n",
       "3         4  Get Shorty (1995)\n",
       "4         5     Copycat (1995)"
      ]
     },
     "execution_count": 9,
     "metadata": {},
     "output_type": "execute_result"
    }
   ],
   "source": [
    "movie_dataset = items_dataset[['movie id','movie title']]\n",
    "movie_dataset.head()"
   ]
  },
  {
   "cell_type": "markdown",
   "metadata": {
    "id": "hEsztTxjSiZA"
   },
   "source": [
    "Looking at length of original items_dataset and length of unique combination of rows in items_dataset after removing movie id column"
   ]
  },
  {
   "cell_type": "code",
   "execution_count": 10,
   "metadata": {
    "colab": {
     "base_uri": "https://localhost:8080/"
    },
    "id": "sdzz8nUySG_q",
    "outputId": "a0fe00d3-23c4-4125-89fa-b3be9bea9c2e"
   },
   "outputs": [
    {
     "data": {
      "text/plain": [
       "(1664, 1682)"
      ]
     },
     "execution_count": 10,
     "metadata": {},
     "output_type": "execute_result"
    }
   ],
   "source": [
    "## looking at length of original items_dataset and length of unique combination of rows in items_dataset after removing movie id column\n",
    "len(items_dataset.groupby(by=column_names2[1:])),len(items_dataset)"
   ]
  },
  {
   "cell_type": "markdown",
   "metadata": {
    "id": "zcsMvVNrS82A"
   },
   "source": [
    "We can see there are 18 extra movie id's for already mapped movie title and the same duplicate movie id is assigned to the user in the user-item dataset."
   ]
  },
  {
   "cell_type": "markdown",
   "metadata": {
    "id": "V1vln0JRTA9J"
   },
   "source": [
    "#Merging required datasets"
   ]
  },
  {
   "cell_type": "code",
   "execution_count": 11,
   "metadata": {
    "colab": {
     "base_uri": "https://localhost:8080/",
     "height": 195
    },
    "id": "IBOXHTmvS6Ex",
    "outputId": "c9995cf4-c7fd-47b0-afb7-c57b7fce007c"
   },
   "outputs": [
    {
     "data": {
      "text/html": [
       "<div>\n",
       "<style scoped>\n",
       "    .dataframe tbody tr th:only-of-type {\n",
       "        vertical-align: middle;\n",
       "    }\n",
       "\n",
       "    .dataframe tbody tr th {\n",
       "        vertical-align: top;\n",
       "    }\n",
       "\n",
       "    .dataframe thead th {\n",
       "        text-align: right;\n",
       "    }\n",
       "</style>\n",
       "<table border=\"1\" class=\"dataframe\">\n",
       "  <thead>\n",
       "    <tr style=\"text-align: right;\">\n",
       "      <th></th>\n",
       "      <th>user id</th>\n",
       "      <th>movie id</th>\n",
       "      <th>rating</th>\n",
       "      <th>timestamp</th>\n",
       "      <th>movie title</th>\n",
       "    </tr>\n",
       "  </thead>\n",
       "  <tbody>\n",
       "    <tr>\n",
       "      <th>0</th>\n",
       "      <td>196</td>\n",
       "      <td>242</td>\n",
       "      <td>3</td>\n",
       "      <td>881250949</td>\n",
       "      <td>Kolya (1996)</td>\n",
       "    </tr>\n",
       "    <tr>\n",
       "      <th>1</th>\n",
       "      <td>186</td>\n",
       "      <td>302</td>\n",
       "      <td>3</td>\n",
       "      <td>891717742</td>\n",
       "      <td>L.A. Confidential (1997)</td>\n",
       "    </tr>\n",
       "    <tr>\n",
       "      <th>2</th>\n",
       "      <td>22</td>\n",
       "      <td>377</td>\n",
       "      <td>1</td>\n",
       "      <td>878887116</td>\n",
       "      <td>Heavyweights (1994)</td>\n",
       "    </tr>\n",
       "    <tr>\n",
       "      <th>3</th>\n",
       "      <td>244</td>\n",
       "      <td>51</td>\n",
       "      <td>2</td>\n",
       "      <td>880606923</td>\n",
       "      <td>Legends of the Fall (1994)</td>\n",
       "    </tr>\n",
       "    <tr>\n",
       "      <th>4</th>\n",
       "      <td>166</td>\n",
       "      <td>346</td>\n",
       "      <td>1</td>\n",
       "      <td>886397596</td>\n",
       "      <td>Jackie Brown (1997)</td>\n",
       "    </tr>\n",
       "  </tbody>\n",
       "</table>\n",
       "</div>"
      ],
      "text/plain": [
       "   user id  movie id  rating  timestamp                 movie title\n",
       "0      196       242       3  881250949                Kolya (1996)\n",
       "1      186       302       3  891717742    L.A. Confidential (1997)\n",
       "2       22       377       1  878887116         Heavyweights (1994)\n",
       "3      244        51       2  880606923  Legends of the Fall (1994)\n",
       "4      166       346       1  886397596         Jackie Brown (1997)"
      ]
     },
     "execution_count": 11,
     "metadata": {},
     "output_type": "execute_result"
    }
   ],
   "source": [
    "merged_dataset = pd.merge(ratings_dataset, movie_dataset, how='inner', on='movie id')\n",
    "merged_dataset.head()"
   ]
  },
  {
   "cell_type": "markdown",
   "metadata": {
    "id": "qlTqLn-mTUCV"
   },
   "source": [
    "A dataset is created from the existing merged dataset by grouping the unique user id and movie title combination and the ratings by a user to the same movie in different instances (timestamps) are averaged and stored in the new dataset."
   ]
  },
  {
   "cell_type": "markdown",
   "metadata": {
    "id": "U6wjxXe7TeIO"
   },
   "source": [
    "Example of a multiple rating scenario by an user to a specific movie:"
   ]
  },
  {
   "cell_type": "code",
   "execution_count": 12,
   "metadata": {
    "colab": {
     "base_uri": "https://localhost:8080/",
     "height": 106
    },
    "id": "xKgq_aXmTDft",
    "outputId": "a2c48fbb-150a-4765-c54c-7be66c36751c"
   },
   "outputs": [
    {
     "data": {
      "text/html": [
       "<div>\n",
       "<style scoped>\n",
       "    .dataframe tbody tr th:only-of-type {\n",
       "        vertical-align: middle;\n",
       "    }\n",
       "\n",
       "    .dataframe tbody tr th {\n",
       "        vertical-align: top;\n",
       "    }\n",
       "\n",
       "    .dataframe thead th {\n",
       "        text-align: right;\n",
       "    }\n",
       "</style>\n",
       "<table border=\"1\" class=\"dataframe\">\n",
       "  <thead>\n",
       "    <tr style=\"text-align: right;\">\n",
       "      <th></th>\n",
       "      <th>user id</th>\n",
       "      <th>movie id</th>\n",
       "      <th>rating</th>\n",
       "      <th>timestamp</th>\n",
       "      <th>movie title</th>\n",
       "    </tr>\n",
       "  </thead>\n",
       "  <tbody>\n",
       "    <tr>\n",
       "      <th>62716</th>\n",
       "      <td>894</td>\n",
       "      <td>246</td>\n",
       "      <td>4</td>\n",
       "      <td>882404137</td>\n",
       "      <td>Chasing Amy (1997)</td>\n",
       "    </tr>\n",
       "    <tr>\n",
       "      <th>90596</th>\n",
       "      <td>894</td>\n",
       "      <td>268</td>\n",
       "      <td>3</td>\n",
       "      <td>879896041</td>\n",
       "      <td>Chasing Amy (1997)</td>\n",
       "    </tr>\n",
       "  </tbody>\n",
       "</table>\n",
       "</div>"
      ],
      "text/plain": [
       "       user id  movie id  rating  timestamp         movie title\n",
       "62716      894       246       4  882404137  Chasing Amy (1997)\n",
       "90596      894       268       3  879896041  Chasing Amy (1997)"
      ]
     },
     "execution_count": 12,
     "metadata": {},
     "output_type": "execute_result"
    }
   ],
   "source": [
    "merged_dataset[(merged_dataset['movie title'] == 'Chasing Amy (1997)') & (merged_dataset['user id'] == 894)]"
   ]
  },
  {
   "cell_type": "markdown",
   "metadata": {
    "id": "kuXOfYN-UQrP"
   },
   "source": [
    "## Creating a final refined dataset with unique user id, movie name combination and their ratings:\n"
   ]
  },
  {
   "cell_type": "code",
   "execution_count": 13,
   "metadata": {
    "colab": {
     "base_uri": "https://localhost:8080/",
     "height": 195
    },
    "id": "gSybgvihTkgE",
    "outputId": "e43e9262-bca7-4c1c-c238-a47ca4d01303"
   },
   "outputs": [
    {
     "data": {
      "text/html": [
       "<div>\n",
       "<style scoped>\n",
       "    .dataframe tbody tr th:only-of-type {\n",
       "        vertical-align: middle;\n",
       "    }\n",
       "\n",
       "    .dataframe tbody tr th {\n",
       "        vertical-align: top;\n",
       "    }\n",
       "\n",
       "    .dataframe thead th {\n",
       "        text-align: right;\n",
       "    }\n",
       "</style>\n",
       "<table border=\"1\" class=\"dataframe\">\n",
       "  <thead>\n",
       "    <tr style=\"text-align: right;\">\n",
       "      <th></th>\n",
       "      <th>user id</th>\n",
       "      <th>movie title</th>\n",
       "      <th>rating</th>\n",
       "    </tr>\n",
       "  </thead>\n",
       "  <tbody>\n",
       "    <tr>\n",
       "      <th>0</th>\n",
       "      <td>1</td>\n",
       "      <td>101 Dalmatians (1996)</td>\n",
       "      <td>2.0</td>\n",
       "    </tr>\n",
       "    <tr>\n",
       "      <th>1</th>\n",
       "      <td>1</td>\n",
       "      <td>12 Angry Men (1957)</td>\n",
       "      <td>5.0</td>\n",
       "    </tr>\n",
       "    <tr>\n",
       "      <th>2</th>\n",
       "      <td>1</td>\n",
       "      <td>20,000 Leagues Under the Sea (1954)</td>\n",
       "      <td>3.0</td>\n",
       "    </tr>\n",
       "    <tr>\n",
       "      <th>3</th>\n",
       "      <td>1</td>\n",
       "      <td>2001: A Space Odyssey (1968)</td>\n",
       "      <td>4.0</td>\n",
       "    </tr>\n",
       "    <tr>\n",
       "      <th>4</th>\n",
       "      <td>1</td>\n",
       "      <td>Abyss, The (1989)</td>\n",
       "      <td>3.0</td>\n",
       "    </tr>\n",
       "  </tbody>\n",
       "</table>\n",
       "</div>"
      ],
      "text/plain": [
       "   user id                          movie title  rating\n",
       "0        1                101 Dalmatians (1996)     2.0\n",
       "1        1                  12 Angry Men (1957)     5.0\n",
       "2        1  20,000 Leagues Under the Sea (1954)     3.0\n",
       "3        1         2001: A Space Odyssey (1968)     4.0\n",
       "4        1                    Abyss, The (1989)     3.0"
      ]
     },
     "execution_count": 13,
     "metadata": {},
     "output_type": "execute_result"
    }
   ],
   "source": [
    "refined_dataset = merged_dataset.groupby(by=['user id','movie title'], as_index=False).agg({\"rating\":\"mean\"})\n",
    "\n",
    "refined_dataset.head()"
   ]
  },
  {
   "cell_type": "markdown",
   "metadata": {
    "id": "OVuuEkazUn20"
   },
   "source": [
    "## Encoding users and movie titles to make sure that the sequence has no missing values when dealing with Deep Neural Networks."
   ]
  },
  {
   "cell_type": "code",
   "execution_count": 14,
   "metadata": {
    "id": "-X1Fvj3AUTjt"
   },
   "outputs": [],
   "source": [
    "user_enc = LabelEncoder()\n",
    "refined_dataset['user'] = user_enc.fit_transform(refined_dataset['user id'].values)\n",
    "n_users = refined_dataset['user'].nunique()"
   ]
  },
  {
   "cell_type": "code",
   "execution_count": 15,
   "metadata": {
    "id": "3f2vtjifW662"
   },
   "outputs": [],
   "source": [
    "item_enc = LabelEncoder()\n",
    "refined_dataset['movie'] = item_enc.fit_transform(refined_dataset['movie title'].values)\n",
    "n_movies = refined_dataset['movie'].nunique()"
   ]
  },
  {
   "cell_type": "code",
   "execution_count": 16,
   "metadata": {
    "colab": {
     "base_uri": "https://localhost:8080/"
    },
    "id": "OeQb6BDbXUzI",
    "outputId": "9db3aaae-b877-4ce0-8e39-726b3de57384"
   },
   "outputs": [
    {
     "data": {
      "text/plain": [
       "(943, 1664, 1.0, 5.0)"
      ]
     },
     "execution_count": 16,
     "metadata": {},
     "output_type": "execute_result"
    }
   ],
   "source": [
    "refined_dataset['rating'] = refined_dataset['rating'].values.astype(np.float32)\n",
    "min_rating = min(refined_dataset['rating'])\n",
    "max_rating = max(refined_dataset['rating'])\n",
    "n_users, n_movies, min_rating, max_rating"
   ]
  },
  {
   "cell_type": "code",
   "execution_count": 17,
   "metadata": {
    "colab": {
     "base_uri": "https://localhost:8080/",
     "height": 195
    },
    "id": "2NLsO6VSXOD4",
    "outputId": "2ad334e6-8823-4104-bfe4-5b3554063252"
   },
   "outputs": [
    {
     "data": {
      "text/html": [
       "<div>\n",
       "<style scoped>\n",
       "    .dataframe tbody tr th:only-of-type {\n",
       "        vertical-align: middle;\n",
       "    }\n",
       "\n",
       "    .dataframe tbody tr th {\n",
       "        vertical-align: top;\n",
       "    }\n",
       "\n",
       "    .dataframe thead th {\n",
       "        text-align: right;\n",
       "    }\n",
       "</style>\n",
       "<table border=\"1\" class=\"dataframe\">\n",
       "  <thead>\n",
       "    <tr style=\"text-align: right;\">\n",
       "      <th></th>\n",
       "      <th>user id</th>\n",
       "      <th>movie title</th>\n",
       "      <th>rating</th>\n",
       "      <th>user</th>\n",
       "      <th>movie</th>\n",
       "    </tr>\n",
       "  </thead>\n",
       "  <tbody>\n",
       "    <tr>\n",
       "      <th>0</th>\n",
       "      <td>1</td>\n",
       "      <td>101 Dalmatians (1996)</td>\n",
       "      <td>2.0</td>\n",
       "      <td>0</td>\n",
       "      <td>2</td>\n",
       "    </tr>\n",
       "    <tr>\n",
       "      <th>1</th>\n",
       "      <td>1</td>\n",
       "      <td>12 Angry Men (1957)</td>\n",
       "      <td>5.0</td>\n",
       "      <td>0</td>\n",
       "      <td>3</td>\n",
       "    </tr>\n",
       "    <tr>\n",
       "      <th>2</th>\n",
       "      <td>1</td>\n",
       "      <td>20,000 Leagues Under the Sea (1954)</td>\n",
       "      <td>3.0</td>\n",
       "      <td>0</td>\n",
       "      <td>6</td>\n",
       "    </tr>\n",
       "    <tr>\n",
       "      <th>3</th>\n",
       "      <td>1</td>\n",
       "      <td>2001: A Space Odyssey (1968)</td>\n",
       "      <td>4.0</td>\n",
       "      <td>0</td>\n",
       "      <td>7</td>\n",
       "    </tr>\n",
       "    <tr>\n",
       "      <th>4</th>\n",
       "      <td>1</td>\n",
       "      <td>Abyss, The (1989)</td>\n",
       "      <td>3.0</td>\n",
       "      <td>0</td>\n",
       "      <td>16</td>\n",
       "    </tr>\n",
       "  </tbody>\n",
       "</table>\n",
       "</div>"
      ],
      "text/plain": [
       "   user id                          movie title  rating  user  movie\n",
       "0        1                101 Dalmatians (1996)     2.0     0      2\n",
       "1        1                  12 Angry Men (1957)     5.0     0      3\n",
       "2        1  20,000 Leagues Under the Sea (1954)     3.0     0      6\n",
       "3        1         2001: A Space Odyssey (1968)     4.0     0      7\n",
       "4        1                    Abyss, The (1989)     3.0     0     16"
      ]
     },
     "execution_count": 17,
     "metadata": {},
     "output_type": "execute_result"
    }
   ],
   "source": [
    "refined_dataset.head()"
   ]
  },
  {
   "cell_type": "markdown",
   "metadata": {
    "id": "3Vrfgd7TZ08C"
   },
   "source": [
    "## Splitting the data into training and testing"
   ]
  },
  {
   "cell_type": "code",
   "execution_count": 18,
   "metadata": {
    "colab": {
     "base_uri": "https://localhost:8080/"
    },
    "id": "9q04V-GnXPFs",
    "outputId": "efadf08a-206e-4d4f-dd06-17b44fa8f693"
   },
   "outputs": [
    {
     "data": {
      "text/plain": [
       "((89723, 2), (9970, 2), (89723,), (9970,))"
      ]
     },
     "execution_count": 18,
     "metadata": {},
     "output_type": "execute_result"
    }
   ],
   "source": [
    "X = refined_dataset[['user', 'movie']].values\n",
    "y = refined_dataset['rating'].values\n",
    "X_train, X_test, y_train, y_test = train_test_split(X, y, test_size=0.1, random_state=50)\n",
    "X_train.shape, X_test.shape, y_train.shape, y_test.shape"
   ]
  },
  {
   "cell_type": "markdown",
   "metadata": {
    "id": "y3s3cccxgGPy"
   },
   "source": [
    "## Defining number of factors which are to be considered by the Embedding layer"
   ]
  },
  {
   "cell_type": "code",
   "execution_count": 19,
   "metadata": {
    "id": "zA39k64MaEfs"
   },
   "outputs": [],
   "source": [
    "n_factors = 150"
   ]
  },
  {
   "cell_type": "markdown",
   "metadata": {
    "id": "fcqGOsdZgaFY"
   },
   "source": [
    "Columns in the input array are split into two separate arrays. As Keras considers them as two distinct inputs, each input needs to be fed in as its own array."
   ]
  },
  {
   "cell_type": "code",
   "execution_count": 20,
   "metadata": {
    "id": "83v-ulEIgS1l"
   },
   "outputs": [],
   "source": [
    "X_train_array = [X_train[:, 0], X_train[:, 1]]\n",
    "X_test_array = [X_test[:, 0], X_test[:, 1]]"
   ]
  },
  {
   "cell_type": "code",
   "execution_count": 21,
   "metadata": {
    "colab": {
     "base_uri": "https://localhost:8080/"
    },
    "id": "OpCiDWkexTkf",
    "outputId": "1a4a2766-39ef-4fd8-e9f0-535947aae7dd"
   },
   "outputs": [
    {
     "data": {
      "text/plain": [
       "(array([[ 180, 1152],\n",
       "        [ 487,  389],\n",
       "        [ 177,  302],\n",
       "        ...,\n",
       "        [ 431, 1588],\n",
       "        [ 232,  399],\n",
       "        [ 138,  612]], dtype=int64),\n",
       " [array([180, 487, 177, ..., 431, 232, 138], dtype=int64),\n",
       "  array([1152,  389,  302, ..., 1588,  399,  612], dtype=int64)],\n",
       " (89723,))"
      ]
     },
     "execution_count": 21,
     "metadata": {},
     "output_type": "execute_result"
    }
   ],
   "source": [
    "X_train, X_train_array, X_train_array[0].shape"
   ]
  },
  {
   "cell_type": "markdown",
   "metadata": {
    "id": "fgdqWxK1IDAg"
   },
   "source": [
    "## Normalizing the labels"
   ]
  },
  {
   "cell_type": "code",
   "execution_count": 22,
   "metadata": {
    "id": "4POYLlXTIP7G"
   },
   "outputs": [],
   "source": [
    "\n",
    "y_train = (y_train - min_rating)/(max_rating - min_rating)\n",
    "y_test = (y_test - min_rating)/(max_rating - min_rating)"
   ]
  },
  {
   "cell_type": "markdown",
   "metadata": {
    "id": "C_sQMkI-m-i-"
   },
   "source": [
    "## Building a Softmax Deep Neural Network"
   ]
  },
  {
   "cell_type": "code",
   "execution_count": 24,
   "metadata": {
    "id": "PRBTogiuhpmV"
   },
   "outputs": [],
   "source": [
    "## Initializing a input layer for users\n",
    "user = tf.keras.layers.Input(shape = (1,))\n",
    "\n",
    "## Embedding layer for n_factors of users\n",
    "u = keras.layers.Embedding(n_users, n_factors, embeddings_initializer = 'he_normal', embeddings_regularizer = tf.keras.regularizers.l2(1e-6))(user)\n",
    "u = tf.keras.layers.Reshape((n_factors,))(u)\n",
    "\n",
    "## Initializing a input layer for movies\n",
    "movie = tf.keras.layers.Input(shape = (1,))\n",
    "\n",
    "## Embedding layer for n_factors of movies\n",
    "m = keras.layers.Embedding(n_movies, n_factors, embeddings_initializer = 'he_normal', embeddings_regularizer=tf.keras.regularizers.l2(1e-6))(movie)\n",
    "m = tf.keras.layers.Reshape((n_factors,))(m)\n",
    "\n",
    "## stacking up both user and movie embeddings\n",
    "x = tf.keras.layers.Concatenate()([u,m])\n",
    "x = tf.keras.layers.Dropout(0.05)(x)\n",
    "\n",
    "## Adding a Dense layer to the architecture\n",
    "x = tf.keras.layers.Dense(32, kernel_initializer='he_normal')(x)\n",
    "x = tf.keras.layers.Activation(activation='relu')(x)\n",
    "x = tf.keras.layers.Dropout(0.05)(x)\n",
    "\n",
    "x = tf.keras.layers.Dense(16, kernel_initializer='he_normal')(x)\n",
    "x = tf.keras.layers.Activation(activation='relu')(x)\n",
    "x = tf.keras.layers.Dropout(0.05)(x)\n",
    "\n",
    "## Adding an Output layer with Sigmoid activation funtion which gives output between 0 and 1\n",
    "x = tf.keras.layers.Dense(9)(x)\n",
    "x = tf.keras.layers.Activation(activation='softmax')(x)\n",
    "\n",
    "## Adding a Lambda layer to convert the output to rating by scaling it with the help of available rating information\n",
    "# x = tf.keras.layers.Lambda(lambda x: x*(max_rating - min_rating) + min_rating)(x)\n",
    "\n",
    "## Defining the model\n",
    "model = tf.keras.models.Model(inputs=[user,movie], outputs=x)\n",
    "# optimizer = tf.keras.optimizers.Adam(lr=0.001)\n",
    "# optimizer = tf.keras.optimizers.RMSprop(learning_rate=0.005,\n",
    "    # rho=0.9, momentum=0.01, epsilon=1e-07)\n",
    "\n",
    "## Compiling the model\n",
    "# model.compile(loss='binary_crossentropy', optimizer = optimizer)\n",
    "# model.compile(loss='mean_squared_error', optimizer = optimizer,metrics=['accuracy'])\n",
    "model.compile(optimizer='sgd', loss=tf.keras.losses.SparseCategoricalCrossentropy(), metrics=['accuracy'])\n"
   ]
  },
  {
   "cell_type": "code",
   "execution_count": 25,
   "metadata": {
    "colab": {
     "base_uri": "https://localhost:8080/"
    },
    "id": "7rMMb03YpJt-",
    "outputId": "4a55230d-c639-4c04-c997-4317d3dd8693"
   },
   "outputs": [
    {
     "data": {
      "text/html": [
       "<pre style=\"white-space:pre;overflow-x:auto;line-height:normal;font-family:Menlo,'DejaVu Sans Mono',consolas,'Courier New',monospace\"><span style=\"font-weight: bold\">Model: \"functional\"</span>\n",
       "</pre>\n"
      ],
      "text/plain": [
       "\u001b[1mModel: \"functional\"\u001b[0m\n"
      ]
     },
     "metadata": {},
     "output_type": "display_data"
    },
    {
     "data": {
      "text/html": [
       "<pre style=\"white-space:pre;overflow-x:auto;line-height:normal;font-family:Menlo,'DejaVu Sans Mono',consolas,'Courier New',monospace\">┏━━━━━━━━━━━━━━━━━━━━━━━━━━━━━━━┳━━━━━━━━━━━━━━━━━━━━━━━━━━━┳━━━━━━━━━━━━━━━━━┳━━━━━━━━━━━━━━━━━━━━━━━━━━━━┓\n",
       "┃<span style=\"font-weight: bold\"> Layer (type)                  </span>┃<span style=\"font-weight: bold\"> Output Shape              </span>┃<span style=\"font-weight: bold\">         Param # </span>┃<span style=\"font-weight: bold\"> Connected to               </span>┃\n",
       "┡━━━━━━━━━━━━━━━━━━━━━━━━━━━━━━━╇━━━━━━━━━━━━━━━━━━━━━━━━━━━╇━━━━━━━━━━━━━━━━━╇━━━━━━━━━━━━━━━━━━━━━━━━━━━━┩\n",
       "│ input_layer_1 (<span style=\"color: #0087ff; text-decoration-color: #0087ff\">InputLayer</span>)    │ (<span style=\"color: #00d7ff; text-decoration-color: #00d7ff\">None</span>, <span style=\"color: #00af00; text-decoration-color: #00af00\">1</span>)                 │               <span style=\"color: #00af00; text-decoration-color: #00af00\">0</span> │ -                          │\n",
       "├───────────────────────────────┼───────────────────────────┼─────────────────┼────────────────────────────┤\n",
       "│ input_layer_2 (<span style=\"color: #0087ff; text-decoration-color: #0087ff\">InputLayer</span>)    │ (<span style=\"color: #00d7ff; text-decoration-color: #00d7ff\">None</span>, <span style=\"color: #00af00; text-decoration-color: #00af00\">1</span>)                 │               <span style=\"color: #00af00; text-decoration-color: #00af00\">0</span> │ -                          │\n",
       "├───────────────────────────────┼───────────────────────────┼─────────────────┼────────────────────────────┤\n",
       "│ embedding (<span style=\"color: #0087ff; text-decoration-color: #0087ff\">Embedding</span>)         │ (<span style=\"color: #00d7ff; text-decoration-color: #00d7ff\">None</span>, <span style=\"color: #00af00; text-decoration-color: #00af00\">1</span>, <span style=\"color: #00af00; text-decoration-color: #00af00\">150</span>)            │         <span style=\"color: #00af00; text-decoration-color: #00af00\">141,450</span> │ input_layer_1[<span style=\"color: #00af00; text-decoration-color: #00af00\">0</span>][<span style=\"color: #00af00; text-decoration-color: #00af00\">0</span>]        │\n",
       "├───────────────────────────────┼───────────────────────────┼─────────────────┼────────────────────────────┤\n",
       "│ embedding_1 (<span style=\"color: #0087ff; text-decoration-color: #0087ff\">Embedding</span>)       │ (<span style=\"color: #00d7ff; text-decoration-color: #00d7ff\">None</span>, <span style=\"color: #00af00; text-decoration-color: #00af00\">1</span>, <span style=\"color: #00af00; text-decoration-color: #00af00\">150</span>)            │         <span style=\"color: #00af00; text-decoration-color: #00af00\">249,600</span> │ input_layer_2[<span style=\"color: #00af00; text-decoration-color: #00af00\">0</span>][<span style=\"color: #00af00; text-decoration-color: #00af00\">0</span>]        │\n",
       "├───────────────────────────────┼───────────────────────────┼─────────────────┼────────────────────────────┤\n",
       "│ reshape (<span style=\"color: #0087ff; text-decoration-color: #0087ff\">Reshape</span>)             │ (<span style=\"color: #00d7ff; text-decoration-color: #00d7ff\">None</span>, <span style=\"color: #00af00; text-decoration-color: #00af00\">150</span>)               │               <span style=\"color: #00af00; text-decoration-color: #00af00\">0</span> │ embedding[<span style=\"color: #00af00; text-decoration-color: #00af00\">0</span>][<span style=\"color: #00af00; text-decoration-color: #00af00\">0</span>]            │\n",
       "├───────────────────────────────┼───────────────────────────┼─────────────────┼────────────────────────────┤\n",
       "│ reshape_1 (<span style=\"color: #0087ff; text-decoration-color: #0087ff\">Reshape</span>)           │ (<span style=\"color: #00d7ff; text-decoration-color: #00d7ff\">None</span>, <span style=\"color: #00af00; text-decoration-color: #00af00\">150</span>)               │               <span style=\"color: #00af00; text-decoration-color: #00af00\">0</span> │ embedding_1[<span style=\"color: #00af00; text-decoration-color: #00af00\">0</span>][<span style=\"color: #00af00; text-decoration-color: #00af00\">0</span>]          │\n",
       "├───────────────────────────────┼───────────────────────────┼─────────────────┼────────────────────────────┤\n",
       "│ concatenate (<span style=\"color: #0087ff; text-decoration-color: #0087ff\">Concatenate</span>)     │ (<span style=\"color: #00d7ff; text-decoration-color: #00d7ff\">None</span>, <span style=\"color: #00af00; text-decoration-color: #00af00\">300</span>)               │               <span style=\"color: #00af00; text-decoration-color: #00af00\">0</span> │ reshape[<span style=\"color: #00af00; text-decoration-color: #00af00\">0</span>][<span style=\"color: #00af00; text-decoration-color: #00af00\">0</span>],             │\n",
       "│                               │                           │                 │ reshape_1[<span style=\"color: #00af00; text-decoration-color: #00af00\">0</span>][<span style=\"color: #00af00; text-decoration-color: #00af00\">0</span>]            │\n",
       "├───────────────────────────────┼───────────────────────────┼─────────────────┼────────────────────────────┤\n",
       "│ dropout (<span style=\"color: #0087ff; text-decoration-color: #0087ff\">Dropout</span>)             │ (<span style=\"color: #00d7ff; text-decoration-color: #00d7ff\">None</span>, <span style=\"color: #00af00; text-decoration-color: #00af00\">300</span>)               │               <span style=\"color: #00af00; text-decoration-color: #00af00\">0</span> │ concatenate[<span style=\"color: #00af00; text-decoration-color: #00af00\">0</span>][<span style=\"color: #00af00; text-decoration-color: #00af00\">0</span>]          │\n",
       "├───────────────────────────────┼───────────────────────────┼─────────────────┼────────────────────────────┤\n",
       "│ dense (<span style=\"color: #0087ff; text-decoration-color: #0087ff\">Dense</span>)                 │ (<span style=\"color: #00d7ff; text-decoration-color: #00d7ff\">None</span>, <span style=\"color: #00af00; text-decoration-color: #00af00\">32</span>)                │           <span style=\"color: #00af00; text-decoration-color: #00af00\">9,632</span> │ dropout[<span style=\"color: #00af00; text-decoration-color: #00af00\">0</span>][<span style=\"color: #00af00; text-decoration-color: #00af00\">0</span>]              │\n",
       "├───────────────────────────────┼───────────────────────────┼─────────────────┼────────────────────────────┤\n",
       "│ activation (<span style=\"color: #0087ff; text-decoration-color: #0087ff\">Activation</span>)       │ (<span style=\"color: #00d7ff; text-decoration-color: #00d7ff\">None</span>, <span style=\"color: #00af00; text-decoration-color: #00af00\">32</span>)                │               <span style=\"color: #00af00; text-decoration-color: #00af00\">0</span> │ dense[<span style=\"color: #00af00; text-decoration-color: #00af00\">0</span>][<span style=\"color: #00af00; text-decoration-color: #00af00\">0</span>]                │\n",
       "├───────────────────────────────┼───────────────────────────┼─────────────────┼────────────────────────────┤\n",
       "│ dropout_1 (<span style=\"color: #0087ff; text-decoration-color: #0087ff\">Dropout</span>)           │ (<span style=\"color: #00d7ff; text-decoration-color: #00d7ff\">None</span>, <span style=\"color: #00af00; text-decoration-color: #00af00\">32</span>)                │               <span style=\"color: #00af00; text-decoration-color: #00af00\">0</span> │ activation[<span style=\"color: #00af00; text-decoration-color: #00af00\">0</span>][<span style=\"color: #00af00; text-decoration-color: #00af00\">0</span>]           │\n",
       "├───────────────────────────────┼───────────────────────────┼─────────────────┼────────────────────────────┤\n",
       "│ dense_1 (<span style=\"color: #0087ff; text-decoration-color: #0087ff\">Dense</span>)               │ (<span style=\"color: #00d7ff; text-decoration-color: #00d7ff\">None</span>, <span style=\"color: #00af00; text-decoration-color: #00af00\">16</span>)                │             <span style=\"color: #00af00; text-decoration-color: #00af00\">528</span> │ dropout_1[<span style=\"color: #00af00; text-decoration-color: #00af00\">0</span>][<span style=\"color: #00af00; text-decoration-color: #00af00\">0</span>]            │\n",
       "├───────────────────────────────┼───────────────────────────┼─────────────────┼────────────────────────────┤\n",
       "│ activation_1 (<span style=\"color: #0087ff; text-decoration-color: #0087ff\">Activation</span>)     │ (<span style=\"color: #00d7ff; text-decoration-color: #00d7ff\">None</span>, <span style=\"color: #00af00; text-decoration-color: #00af00\">16</span>)                │               <span style=\"color: #00af00; text-decoration-color: #00af00\">0</span> │ dense_1[<span style=\"color: #00af00; text-decoration-color: #00af00\">0</span>][<span style=\"color: #00af00; text-decoration-color: #00af00\">0</span>]              │\n",
       "├───────────────────────────────┼───────────────────────────┼─────────────────┼────────────────────────────┤\n",
       "│ dropout_2 (<span style=\"color: #0087ff; text-decoration-color: #0087ff\">Dropout</span>)           │ (<span style=\"color: #00d7ff; text-decoration-color: #00d7ff\">None</span>, <span style=\"color: #00af00; text-decoration-color: #00af00\">16</span>)                │               <span style=\"color: #00af00; text-decoration-color: #00af00\">0</span> │ activation_1[<span style=\"color: #00af00; text-decoration-color: #00af00\">0</span>][<span style=\"color: #00af00; text-decoration-color: #00af00\">0</span>]         │\n",
       "├───────────────────────────────┼───────────────────────────┼─────────────────┼────────────────────────────┤\n",
       "│ dense_2 (<span style=\"color: #0087ff; text-decoration-color: #0087ff\">Dense</span>)               │ (<span style=\"color: #00d7ff; text-decoration-color: #00d7ff\">None</span>, <span style=\"color: #00af00; text-decoration-color: #00af00\">9</span>)                 │             <span style=\"color: #00af00; text-decoration-color: #00af00\">153</span> │ dropout_2[<span style=\"color: #00af00; text-decoration-color: #00af00\">0</span>][<span style=\"color: #00af00; text-decoration-color: #00af00\">0</span>]            │\n",
       "├───────────────────────────────┼───────────────────────────┼─────────────────┼────────────────────────────┤\n",
       "│ activation_2 (<span style=\"color: #0087ff; text-decoration-color: #0087ff\">Activation</span>)     │ (<span style=\"color: #00d7ff; text-decoration-color: #00d7ff\">None</span>, <span style=\"color: #00af00; text-decoration-color: #00af00\">9</span>)                 │               <span style=\"color: #00af00; text-decoration-color: #00af00\">0</span> │ dense_2[<span style=\"color: #00af00; text-decoration-color: #00af00\">0</span>][<span style=\"color: #00af00; text-decoration-color: #00af00\">0</span>]              │\n",
       "└───────────────────────────────┴───────────────────────────┴─────────────────┴────────────────────────────┘\n",
       "</pre>\n"
      ],
      "text/plain": [
       "┏━━━━━━━━━━━━━━━━━━━━━━━━━━━━━━━┳━━━━━━━━━━━━━━━━━━━━━━━━━━━┳━━━━━━━━━━━━━━━━━┳━━━━━━━━━━━━━━━━━━━━━━━━━━━━┓\n",
       "┃\u001b[1m \u001b[0m\u001b[1mLayer (type)                 \u001b[0m\u001b[1m \u001b[0m┃\u001b[1m \u001b[0m\u001b[1mOutput Shape             \u001b[0m\u001b[1m \u001b[0m┃\u001b[1m \u001b[0m\u001b[1m        Param #\u001b[0m\u001b[1m \u001b[0m┃\u001b[1m \u001b[0m\u001b[1mConnected to              \u001b[0m\u001b[1m \u001b[0m┃\n",
       "┡━━━━━━━━━━━━━━━━━━━━━━━━━━━━━━━╇━━━━━━━━━━━━━━━━━━━━━━━━━━━╇━━━━━━━━━━━━━━━━━╇━━━━━━━━━━━━━━━━━━━━━━━━━━━━┩\n",
       "│ input_layer_1 (\u001b[38;5;33mInputLayer\u001b[0m)    │ (\u001b[38;5;45mNone\u001b[0m, \u001b[38;5;34m1\u001b[0m)                 │               \u001b[38;5;34m0\u001b[0m │ -                          │\n",
       "├───────────────────────────────┼───────────────────────────┼─────────────────┼────────────────────────────┤\n",
       "│ input_layer_2 (\u001b[38;5;33mInputLayer\u001b[0m)    │ (\u001b[38;5;45mNone\u001b[0m, \u001b[38;5;34m1\u001b[0m)                 │               \u001b[38;5;34m0\u001b[0m │ -                          │\n",
       "├───────────────────────────────┼───────────────────────────┼─────────────────┼────────────────────────────┤\n",
       "│ embedding (\u001b[38;5;33mEmbedding\u001b[0m)         │ (\u001b[38;5;45mNone\u001b[0m, \u001b[38;5;34m1\u001b[0m, \u001b[38;5;34m150\u001b[0m)            │         \u001b[38;5;34m141,450\u001b[0m │ input_layer_1[\u001b[38;5;34m0\u001b[0m][\u001b[38;5;34m0\u001b[0m]        │\n",
       "├───────────────────────────────┼───────────────────────────┼─────────────────┼────────────────────────────┤\n",
       "│ embedding_1 (\u001b[38;5;33mEmbedding\u001b[0m)       │ (\u001b[38;5;45mNone\u001b[0m, \u001b[38;5;34m1\u001b[0m, \u001b[38;5;34m150\u001b[0m)            │         \u001b[38;5;34m249,600\u001b[0m │ input_layer_2[\u001b[38;5;34m0\u001b[0m][\u001b[38;5;34m0\u001b[0m]        │\n",
       "├───────────────────────────────┼───────────────────────────┼─────────────────┼────────────────────────────┤\n",
       "│ reshape (\u001b[38;5;33mReshape\u001b[0m)             │ (\u001b[38;5;45mNone\u001b[0m, \u001b[38;5;34m150\u001b[0m)               │               \u001b[38;5;34m0\u001b[0m │ embedding[\u001b[38;5;34m0\u001b[0m][\u001b[38;5;34m0\u001b[0m]            │\n",
       "├───────────────────────────────┼───────────────────────────┼─────────────────┼────────────────────────────┤\n",
       "│ reshape_1 (\u001b[38;5;33mReshape\u001b[0m)           │ (\u001b[38;5;45mNone\u001b[0m, \u001b[38;5;34m150\u001b[0m)               │               \u001b[38;5;34m0\u001b[0m │ embedding_1[\u001b[38;5;34m0\u001b[0m][\u001b[38;5;34m0\u001b[0m]          │\n",
       "├───────────────────────────────┼───────────────────────────┼─────────────────┼────────────────────────────┤\n",
       "│ concatenate (\u001b[38;5;33mConcatenate\u001b[0m)     │ (\u001b[38;5;45mNone\u001b[0m, \u001b[38;5;34m300\u001b[0m)               │               \u001b[38;5;34m0\u001b[0m │ reshape[\u001b[38;5;34m0\u001b[0m][\u001b[38;5;34m0\u001b[0m],             │\n",
       "│                               │                           │                 │ reshape_1[\u001b[38;5;34m0\u001b[0m][\u001b[38;5;34m0\u001b[0m]            │\n",
       "├───────────────────────────────┼───────────────────────────┼─────────────────┼────────────────────────────┤\n",
       "│ dropout (\u001b[38;5;33mDropout\u001b[0m)             │ (\u001b[38;5;45mNone\u001b[0m, \u001b[38;5;34m300\u001b[0m)               │               \u001b[38;5;34m0\u001b[0m │ concatenate[\u001b[38;5;34m0\u001b[0m][\u001b[38;5;34m0\u001b[0m]          │\n",
       "├───────────────────────────────┼───────────────────────────┼─────────────────┼────────────────────────────┤\n",
       "│ dense (\u001b[38;5;33mDense\u001b[0m)                 │ (\u001b[38;5;45mNone\u001b[0m, \u001b[38;5;34m32\u001b[0m)                │           \u001b[38;5;34m9,632\u001b[0m │ dropout[\u001b[38;5;34m0\u001b[0m][\u001b[38;5;34m0\u001b[0m]              │\n",
       "├───────────────────────────────┼───────────────────────────┼─────────────────┼────────────────────────────┤\n",
       "│ activation (\u001b[38;5;33mActivation\u001b[0m)       │ (\u001b[38;5;45mNone\u001b[0m, \u001b[38;5;34m32\u001b[0m)                │               \u001b[38;5;34m0\u001b[0m │ dense[\u001b[38;5;34m0\u001b[0m][\u001b[38;5;34m0\u001b[0m]                │\n",
       "├───────────────────────────────┼───────────────────────────┼─────────────────┼────────────────────────────┤\n",
       "│ dropout_1 (\u001b[38;5;33mDropout\u001b[0m)           │ (\u001b[38;5;45mNone\u001b[0m, \u001b[38;5;34m32\u001b[0m)                │               \u001b[38;5;34m0\u001b[0m │ activation[\u001b[38;5;34m0\u001b[0m][\u001b[38;5;34m0\u001b[0m]           │\n",
       "├───────────────────────────────┼───────────────────────────┼─────────────────┼────────────────────────────┤\n",
       "│ dense_1 (\u001b[38;5;33mDense\u001b[0m)               │ (\u001b[38;5;45mNone\u001b[0m, \u001b[38;5;34m16\u001b[0m)                │             \u001b[38;5;34m528\u001b[0m │ dropout_1[\u001b[38;5;34m0\u001b[0m][\u001b[38;5;34m0\u001b[0m]            │\n",
       "├───────────────────────────────┼───────────────────────────┼─────────────────┼────────────────────────────┤\n",
       "│ activation_1 (\u001b[38;5;33mActivation\u001b[0m)     │ (\u001b[38;5;45mNone\u001b[0m, \u001b[38;5;34m16\u001b[0m)                │               \u001b[38;5;34m0\u001b[0m │ dense_1[\u001b[38;5;34m0\u001b[0m][\u001b[38;5;34m0\u001b[0m]              │\n",
       "├───────────────────────────────┼───────────────────────────┼─────────────────┼────────────────────────────┤\n",
       "│ dropout_2 (\u001b[38;5;33mDropout\u001b[0m)           │ (\u001b[38;5;45mNone\u001b[0m, \u001b[38;5;34m16\u001b[0m)                │               \u001b[38;5;34m0\u001b[0m │ activation_1[\u001b[38;5;34m0\u001b[0m][\u001b[38;5;34m0\u001b[0m]         │\n",
       "├───────────────────────────────┼───────────────────────────┼─────────────────┼────────────────────────────┤\n",
       "│ dense_2 (\u001b[38;5;33mDense\u001b[0m)               │ (\u001b[38;5;45mNone\u001b[0m, \u001b[38;5;34m9\u001b[0m)                 │             \u001b[38;5;34m153\u001b[0m │ dropout_2[\u001b[38;5;34m0\u001b[0m][\u001b[38;5;34m0\u001b[0m]            │\n",
       "├───────────────────────────────┼───────────────────────────┼─────────────────┼────────────────────────────┤\n",
       "│ activation_2 (\u001b[38;5;33mActivation\u001b[0m)     │ (\u001b[38;5;45mNone\u001b[0m, \u001b[38;5;34m9\u001b[0m)                 │               \u001b[38;5;34m0\u001b[0m │ dense_2[\u001b[38;5;34m0\u001b[0m][\u001b[38;5;34m0\u001b[0m]              │\n",
       "└───────────────────────────────┴───────────────────────────┴─────────────────┴────────────────────────────┘\n"
      ]
     },
     "metadata": {},
     "output_type": "display_data"
    },
    {
     "data": {
      "text/html": [
       "<pre style=\"white-space:pre;overflow-x:auto;line-height:normal;font-family:Menlo,'DejaVu Sans Mono',consolas,'Courier New',monospace\"><span style=\"font-weight: bold\"> Total params: </span><span style=\"color: #00af00; text-decoration-color: #00af00\">401,363</span> (1.53 MB)\n",
       "</pre>\n"
      ],
      "text/plain": [
       "\u001b[1m Total params: \u001b[0m\u001b[38;5;34m401,363\u001b[0m (1.53 MB)\n"
      ]
     },
     "metadata": {},
     "output_type": "display_data"
    },
    {
     "data": {
      "text/html": [
       "<pre style=\"white-space:pre;overflow-x:auto;line-height:normal;font-family:Menlo,'DejaVu Sans Mono',consolas,'Courier New',monospace\"><span style=\"font-weight: bold\"> Trainable params: </span><span style=\"color: #00af00; text-decoration-color: #00af00\">401,363</span> (1.53 MB)\n",
       "</pre>\n"
      ],
      "text/plain": [
       "\u001b[1m Trainable params: \u001b[0m\u001b[38;5;34m401,363\u001b[0m (1.53 MB)\n"
      ]
     },
     "metadata": {},
     "output_type": "display_data"
    },
    {
     "data": {
      "text/html": [
       "<pre style=\"white-space:pre;overflow-x:auto;line-height:normal;font-family:Menlo,'DejaVu Sans Mono',consolas,'Courier New',monospace\"><span style=\"font-weight: bold\"> Non-trainable params: </span><span style=\"color: #00af00; text-decoration-color: #00af00\">0</span> (0.00 B)\n",
       "</pre>\n"
      ],
      "text/plain": [
       "\u001b[1m Non-trainable params: \u001b[0m\u001b[38;5;34m0\u001b[0m (0.00 B)\n"
      ]
     },
     "metadata": {},
     "output_type": "display_data"
    }
   ],
   "source": [
    "model.summary()"
   ]
  },
  {
   "cell_type": "code",
   "execution_count": 26,
   "metadata": {
    "colab": {
     "base_uri": "https://localhost:8080/"
    },
    "id": "Ky7cKIGDuSgy",
    "outputId": "636e86b7-702a-4047-d8c0-d30c8e47df47"
   },
   "outputs": [
    {
     "name": "stdout",
     "output_type": "stream",
     "text": [
      "Epoch 1/70\n",
      "\u001b[1m701/701\u001b[0m \u001b[32m━━━━━━━━━━━━━━━━━━━━\u001b[0m\u001b[37m\u001b[0m \u001b[1m2s\u001b[0m 2ms/step - accuracy: 0.0624 - loss: 1.2388 - val_accuracy: 0.0617 - val_loss: 0.5276 - learning_rate: 0.0100\n",
      "Epoch 2/70\n",
      "\u001b[1m701/701\u001b[0m \u001b[32m━━━━━━━━━━━━━━━━━━━━\u001b[0m\u001b[37m\u001b[0m \u001b[1m1s\u001b[0m 1ms/step - accuracy: 0.0602 - loss: 0.5357 - val_accuracy: 0.0617 - val_loss: 0.5145 - learning_rate: 0.0100\n",
      "Epoch 3/70\n",
      "\u001b[1m701/701\u001b[0m \u001b[32m━━━━━━━━━━━━━━━━━━━━\u001b[0m\u001b[37m\u001b[0m \u001b[1m1s\u001b[0m 1ms/step - accuracy: 0.0592 - loss: 0.5267 - val_accuracy: 0.0617 - val_loss: 0.5114 - learning_rate: 0.0100\n",
      "Epoch 4/70\n",
      "\u001b[1m701/701\u001b[0m \u001b[32m━━━━━━━━━━━━━━━━━━━━\u001b[0m\u001b[37m\u001b[0m \u001b[1m1s\u001b[0m 2ms/step - accuracy: 0.0603 - loss: 0.5240 - val_accuracy: 0.0617 - val_loss: 0.5097 - learning_rate: 0.0100\n",
      "Epoch 5/70\n",
      "\u001b[1m701/701\u001b[0m \u001b[32m━━━━━━━━━━━━━━━━━━━━\u001b[0m\u001b[37m\u001b[0m \u001b[1m1s\u001b[0m 1ms/step - accuracy: 0.0611 - loss: 0.5230 - val_accuracy: 0.0617 - val_loss: 0.5088 - learning_rate: 0.0100\n",
      "Epoch 6/70\n",
      "\u001b[1m701/701\u001b[0m \u001b[32m━━━━━━━━━━━━━━━━━━━━\u001b[0m\u001b[37m\u001b[0m \u001b[1m1s\u001b[0m 1ms/step - accuracy: 0.0615 - loss: 0.5200 - val_accuracy: 0.0617 - val_loss: 0.5072 - learning_rate: 0.0100\n",
      "Epoch 7/70\n",
      "\u001b[1m701/701\u001b[0m \u001b[32m━━━━━━━━━━━━━━━━━━━━\u001b[0m\u001b[37m\u001b[0m \u001b[1m1s\u001b[0m 2ms/step - accuracy: 0.0605 - loss: 0.5174 - val_accuracy: 0.0617 - val_loss: 0.5060 - learning_rate: 0.0100\n",
      "Epoch 8/70\n",
      "\u001b[1m701/701\u001b[0m \u001b[32m━━━━━━━━━━━━━━━━━━━━\u001b[0m\u001b[37m\u001b[0m \u001b[1m1s\u001b[0m 2ms/step - accuracy: 0.0598 - loss: 0.5154 - val_accuracy: 0.0617 - val_loss: 0.5046 - learning_rate: 0.0100\n",
      "Epoch 9/70\n",
      "\u001b[1m701/701\u001b[0m \u001b[32m━━━━━━━━━━━━━━━━━━━━\u001b[0m\u001b[37m\u001b[0m \u001b[1m1s\u001b[0m 1ms/step - accuracy: 0.0604 - loss: 0.5170 - val_accuracy: 0.0617 - val_loss: 0.5027 - learning_rate: 0.0100\n",
      "Epoch 10/70\n",
      "\u001b[1m701/701\u001b[0m \u001b[32m━━━━━━━━━━━━━━━━━━━━\u001b[0m\u001b[37m\u001b[0m \u001b[1m1s\u001b[0m 1ms/step - accuracy: 0.0607 - loss: 0.5096 - val_accuracy: 0.0617 - val_loss: 0.5009 - learning_rate: 0.0100\n",
      "Epoch 11/70\n",
      "\u001b[1m701/701\u001b[0m \u001b[32m━━━━━━━━━━━━━━━━━━━━\u001b[0m\u001b[37m\u001b[0m \u001b[1m1s\u001b[0m 1ms/step - accuracy: 0.0606 - loss: 0.5066 - val_accuracy: 0.0617 - val_loss: 0.4980 - learning_rate: 0.0100\n",
      "Epoch 12/70\n",
      "\u001b[1m701/701\u001b[0m \u001b[32m━━━━━━━━━━━━━━━━━━━━\u001b[0m\u001b[37m\u001b[0m \u001b[1m1s\u001b[0m 1ms/step - accuracy: 0.0619 - loss: 0.5054 - val_accuracy: 0.0617 - val_loss: 0.4955 - learning_rate: 0.0100\n",
      "Epoch 13/70\n",
      "\u001b[1m701/701\u001b[0m \u001b[32m━━━━━━━━━━━━━━━━━━━━\u001b[0m\u001b[37m\u001b[0m \u001b[1m1s\u001b[0m 2ms/step - accuracy: 0.0607 - loss: 0.5067 - val_accuracy: 0.0617 - val_loss: 0.4906 - learning_rate: 0.0100\n",
      "Epoch 14/70\n",
      "\u001b[1m701/701\u001b[0m \u001b[32m━━━━━━━━━━━━━━━━━━━━\u001b[0m\u001b[37m\u001b[0m \u001b[1m1s\u001b[0m 1ms/step - accuracy: 0.0614 - loss: 0.4979 - val_accuracy: 0.0617 - val_loss: 0.4860 - learning_rate: 0.0100\n",
      "Epoch 15/70\n",
      "\u001b[1m701/701\u001b[0m \u001b[32m━━━━━━━━━━━━━━━━━━━━\u001b[0m\u001b[37m\u001b[0m \u001b[1m1s\u001b[0m 1ms/step - accuracy: 0.0614 - loss: 0.4941 - val_accuracy: 0.0617 - val_loss: 0.4799 - learning_rate: 0.0100\n",
      "Epoch 16/70\n",
      "\u001b[1m701/701\u001b[0m \u001b[32m━━━━━━━━━━━━━━━━━━━━\u001b[0m\u001b[37m\u001b[0m \u001b[1m1s\u001b[0m 1ms/step - accuracy: 0.0603 - loss: 0.4902 - val_accuracy: 0.0617 - val_loss: 0.4728 - learning_rate: 0.0100\n",
      "Epoch 17/70\n",
      "\u001b[1m701/701\u001b[0m \u001b[32m━━━━━━━━━━━━━━━━━━━━\u001b[0m\u001b[37m\u001b[0m \u001b[1m1s\u001b[0m 1ms/step - accuracy: 0.0602 - loss: 0.4831 - val_accuracy: 0.0617 - val_loss: 0.4657 - learning_rate: 0.0100\n",
      "Epoch 18/70\n",
      "\u001b[1m701/701\u001b[0m \u001b[32m━━━━━━━━━━━━━━━━━━━━\u001b[0m\u001b[37m\u001b[0m \u001b[1m1s\u001b[0m 1ms/step - accuracy: 0.0614 - loss: 0.4757 - val_accuracy: 0.0617 - val_loss: 0.4592 - learning_rate: 0.0100\n",
      "Epoch 19/70\n",
      "\u001b[1m701/701\u001b[0m \u001b[32m━━━━━━━━━━━━━━━━━━━━\u001b[0m\u001b[37m\u001b[0m \u001b[1m1s\u001b[0m 2ms/step - accuracy: 0.0643 - loss: 0.4695 - val_accuracy: 0.0635 - val_loss: 0.4530 - learning_rate: 0.0100\n",
      "Epoch 20/70\n",
      "\u001b[1m701/701\u001b[0m \u001b[32m━━━━━━━━━━━━━━━━━━━━\u001b[0m\u001b[37m\u001b[0m \u001b[1m1s\u001b[0m 1ms/step - accuracy: 0.0696 - loss: 0.4632 - val_accuracy: 0.0636 - val_loss: 0.4483 - learning_rate: 0.0100\n",
      "Epoch 21/70\n",
      "\u001b[1m701/701\u001b[0m \u001b[32m━━━━━━━━━━━━━━━━━━━━\u001b[0m\u001b[37m\u001b[0m \u001b[1m1s\u001b[0m 1ms/step - accuracy: 0.0748 - loss: 0.4582 - val_accuracy: 0.0718 - val_loss: 0.4436 - learning_rate: 0.0100\n",
      "Epoch 22/70\n",
      "\u001b[1m701/701\u001b[0m \u001b[32m━━━━━━━━━━━━━━━━━━━━\u001b[0m\u001b[37m\u001b[0m \u001b[1m1s\u001b[0m 1ms/step - accuracy: 0.0822 - loss: 0.4507 - val_accuracy: 0.0905 - val_loss: 0.4405 - learning_rate: 0.0100\n",
      "Epoch 23/70\n",
      "\u001b[1m701/701\u001b[0m \u001b[32m━━━━━━━━━━━━━━━━━━━━\u001b[0m\u001b[37m\u001b[0m \u001b[1m1s\u001b[0m 1ms/step - accuracy: 0.0894 - loss: 0.4460 - val_accuracy: 0.0980 - val_loss: 0.4378 - learning_rate: 0.0100\n",
      "Epoch 24/70\n",
      "\u001b[1m701/701\u001b[0m \u001b[32m━━━━━━━━━━━━━━━━━━━━\u001b[0m\u001b[37m\u001b[0m \u001b[1m1s\u001b[0m 1ms/step - accuracy: 0.0940 - loss: 0.4431 - val_accuracy: 0.0996 - val_loss: 0.4349 - learning_rate: 0.0100\n",
      "Epoch 25/70\n",
      "\u001b[1m701/701\u001b[0m \u001b[32m━━━━━━━━━━━━━━━━━━━━\u001b[0m\u001b[37m\u001b[0m \u001b[1m1s\u001b[0m 1ms/step - accuracy: 0.0983 - loss: 0.4430 - val_accuracy: 0.0933 - val_loss: 0.4321 - learning_rate: 0.0100\n",
      "Epoch 26/70\n",
      "\u001b[1m701/701\u001b[0m \u001b[32m━━━━━━━━━━━━━━━━━━━━\u001b[0m\u001b[37m\u001b[0m \u001b[1m1s\u001b[0m 1ms/step - accuracy: 0.1023 - loss: 0.4357 - val_accuracy: 0.0995 - val_loss: 0.4303 - learning_rate: 0.0100\n",
      "Epoch 27/70\n",
      "\u001b[1m701/701\u001b[0m \u001b[32m━━━━━━━━━━━━━━━━━━━━\u001b[0m\u001b[37m\u001b[0m \u001b[1m1s\u001b[0m 1ms/step - accuracy: 0.1030 - loss: 0.4319 - val_accuracy: 0.0894 - val_loss: 0.4295 - learning_rate: 0.0100\n",
      "Epoch 28/70\n",
      "\u001b[1m701/701\u001b[0m \u001b[32m━━━━━━━━━━━━━━━━━━━━\u001b[0m\u001b[37m\u001b[0m \u001b[1m1s\u001b[0m 2ms/step - accuracy: 0.1044 - loss: 0.4324 - val_accuracy: 0.1073 - val_loss: 0.4272 - learning_rate: 0.0100\n",
      "Epoch 29/70\n",
      "\u001b[1m701/701\u001b[0m \u001b[32m━━━━━━━━━━━━━━━━━━━━\u001b[0m\u001b[37m\u001b[0m \u001b[1m1s\u001b[0m 2ms/step - accuracy: 0.1065 - loss: 0.4266 - val_accuracy: 0.1029 - val_loss: 0.4260 - learning_rate: 0.0100\n",
      "Epoch 30/70\n",
      "\u001b[1m701/701\u001b[0m \u001b[32m━━━━━━━━━━━━━━━━━━━━\u001b[0m\u001b[37m\u001b[0m \u001b[1m1s\u001b[0m 2ms/step - accuracy: 0.1105 - loss: 0.4297 - val_accuracy: 0.1073 - val_loss: 0.4248 - learning_rate: 0.0100\n",
      "Epoch 31/70\n",
      "\u001b[1m701/701\u001b[0m \u001b[32m━━━━━━━━━━━━━━━━━━━━\u001b[0m\u001b[37m\u001b[0m \u001b[1m1s\u001b[0m 1ms/step - accuracy: 0.1092 - loss: 0.4263 - val_accuracy: 0.1088 - val_loss: 0.4237 - learning_rate: 0.0100\n",
      "Epoch 32/70\n",
      "\u001b[1m701/701\u001b[0m \u001b[32m━━━━━━━━━━━━━━━━━━━━\u001b[0m\u001b[37m\u001b[0m \u001b[1m1s\u001b[0m 1ms/step - accuracy: 0.1142 - loss: 0.4237 - val_accuracy: 0.1076 - val_loss: 0.4228 - learning_rate: 0.0100\n",
      "Epoch 33/70\n",
      "\u001b[1m701/701\u001b[0m \u001b[32m━━━━━━━━━━━━━━━━━━━━\u001b[0m\u001b[37m\u001b[0m \u001b[1m1s\u001b[0m 1ms/step - accuracy: 0.1134 - loss: 0.4194 - val_accuracy: 0.1176 - val_loss: 0.4227 - learning_rate: 0.0100\n",
      "Epoch 34/70\n",
      "\u001b[1m701/701\u001b[0m \u001b[32m━━━━━━━━━━━━━━━━━━━━\u001b[0m\u001b[37m\u001b[0m \u001b[1m1s\u001b[0m 1ms/step - accuracy: 0.1135 - loss: 0.4212 - val_accuracy: 0.1153 - val_loss: 0.4214 - learning_rate: 0.0100\n",
      "Epoch 35/70\n",
      "\u001b[1m701/701\u001b[0m \u001b[32m━━━━━━━━━━━━━━━━━━━━\u001b[0m\u001b[37m\u001b[0m \u001b[1m1s\u001b[0m 1ms/step - accuracy: 0.1185 - loss: 0.4192 - val_accuracy: 0.1165 - val_loss: 0.4208 - learning_rate: 0.0100\n",
      "Epoch 36/70\n",
      "\u001b[1m701/701\u001b[0m \u001b[32m━━━━━━━━━━━━━━━━━━━━\u001b[0m\u001b[37m\u001b[0m \u001b[1m1s\u001b[0m 2ms/step - accuracy: 0.1171 - loss: 0.4175 - val_accuracy: 0.1132 - val_loss: 0.4201 - learning_rate: 0.0100\n",
      "Epoch 37/70\n",
      "\u001b[1m701/701\u001b[0m \u001b[32m━━━━━━━━━━━━━━━━━━━━\u001b[0m\u001b[37m\u001b[0m \u001b[1m1s\u001b[0m 2ms/step - accuracy: 0.1187 - loss: 0.4168 - val_accuracy: 0.1232 - val_loss: 0.4204 - learning_rate: 0.0100\n",
      "Epoch 38/70\n",
      "\u001b[1m701/701\u001b[0m \u001b[32m━━━━━━━━━━━━━━━━━━━━\u001b[0m\u001b[37m\u001b[0m \u001b[1m1s\u001b[0m 2ms/step - accuracy: 0.1196 - loss: 0.4202 - val_accuracy: 0.1182 - val_loss: 0.4192 - learning_rate: 0.0100\n",
      "Epoch 39/70\n",
      "\u001b[1m701/701\u001b[0m \u001b[32m━━━━━━━━━━━━━━━━━━━━\u001b[0m\u001b[37m\u001b[0m \u001b[1m1s\u001b[0m 1ms/step - accuracy: 0.1186 - loss: 0.4140 - val_accuracy: 0.1230 - val_loss: 0.4196 - learning_rate: 0.0100\n",
      "Epoch 40/70\n",
      "\u001b[1m701/701\u001b[0m \u001b[32m━━━━━━━━━━━━━━━━━━━━\u001b[0m\u001b[37m\u001b[0m \u001b[1m1s\u001b[0m 2ms/step - accuracy: 0.1198 - loss: 0.4149 - val_accuracy: 0.1210 - val_loss: 0.4187 - learning_rate: 0.0100\n",
      "Epoch 41/70\n",
      "\u001b[1m701/701\u001b[0m \u001b[32m━━━━━━━━━━━━━━━━━━━━\u001b[0m\u001b[37m\u001b[0m \u001b[1m1s\u001b[0m 1ms/step - accuracy: 0.1213 - loss: 0.4170 - val_accuracy: 0.1188 - val_loss: 0.4183 - learning_rate: 0.0100\n",
      "Epoch 42/70\n",
      "\u001b[1m701/701\u001b[0m \u001b[32m━━━━━━━━━━━━━━━━━━━━\u001b[0m\u001b[37m\u001b[0m \u001b[1m1s\u001b[0m 2ms/step - accuracy: 0.1212 - loss: 0.4135 - val_accuracy: 0.1200 - val_loss: 0.4179 - learning_rate: 0.0100\n",
      "Epoch 43/70\n",
      "\u001b[1m701/701\u001b[0m \u001b[32m━━━━━━━━━━━━━━━━━━━━\u001b[0m\u001b[37m\u001b[0m \u001b[1m1s\u001b[0m 2ms/step - accuracy: 0.1218 - loss: 0.4130 - val_accuracy: 0.1271 - val_loss: 0.4185 - learning_rate: 0.0100\n",
      "Epoch 44/70\n",
      "\u001b[1m701/701\u001b[0m \u001b[32m━━━━━━━━━━━━━━━━━━━━\u001b[0m\u001b[37m\u001b[0m \u001b[1m1s\u001b[0m 1ms/step - accuracy: 0.1228 - loss: 0.4134 - val_accuracy: 0.1184 - val_loss: 0.4174 - learning_rate: 0.0100\n",
      "Epoch 45/70\n",
      "\u001b[1m701/701\u001b[0m \u001b[32m━━━━━━━━━━━━━━━━━━━━\u001b[0m\u001b[37m\u001b[0m \u001b[1m1s\u001b[0m 1ms/step - accuracy: 0.1211 - loss: 0.4125 - val_accuracy: 0.1182 - val_loss: 0.4172 - learning_rate: 0.0100\n",
      "Epoch 46/70\n",
      "\u001b[1m701/701\u001b[0m \u001b[32m━━━━━━━━━━━━━━━━━━━━\u001b[0m\u001b[37m\u001b[0m \u001b[1m1s\u001b[0m 2ms/step - accuracy: 0.1224 - loss: 0.4111 - val_accuracy: 0.1147 - val_loss: 0.4169 - learning_rate: 0.0100\n",
      "Epoch 47/70\n",
      "\u001b[1m701/701\u001b[0m \u001b[32m━━━━━━━━━━━━━━━━━━━━\u001b[0m\u001b[37m\u001b[0m \u001b[1m1s\u001b[0m 2ms/step - accuracy: 0.1206 - loss: 0.4108 - val_accuracy: 0.1074 - val_loss: 0.4171 - learning_rate: 0.0100\n",
      "Epoch 48/70\n",
      "\u001b[1m701/701\u001b[0m \u001b[32m━━━━━━━━━━━━━━━━━━━━\u001b[0m\u001b[37m\u001b[0m \u001b[1m1s\u001b[0m 2ms/step - accuracy: 0.1205 - loss: 0.4117 - val_accuracy: 0.1205 - val_loss: 0.4165 - learning_rate: 0.0100\n",
      "Epoch 49/70\n",
      "\u001b[1m701/701\u001b[0m \u001b[32m━━━━━━━━━━━━━━━━━━━━\u001b[0m\u001b[37m\u001b[0m \u001b[1m1s\u001b[0m 2ms/step - accuracy: 0.1203 - loss: 0.4115 - val_accuracy: 0.1286 - val_loss: 0.4170 - learning_rate: 0.0100\n",
      "Epoch 50/70\n",
      "\u001b[1m701/701\u001b[0m \u001b[32m━━━━━━━━━━━━━━━━━━━━\u001b[0m\u001b[37m\u001b[0m \u001b[1m1s\u001b[0m 2ms/step - accuracy: 0.1244 - loss: 0.4079 - val_accuracy: 0.1016 - val_loss: 0.4176 - learning_rate: 0.0100\n",
      "Epoch 51/70\n",
      "\u001b[1m691/701\u001b[0m \u001b[32m━━━━━━━━━━━━━━━━━━━\u001b[0m\u001b[37m━\u001b[0m \u001b[1m0s\u001b[0m 1ms/step - accuracy: 0.1209 - loss: 0.4082\n",
      "Epoch 51: ReduceLROnPlateau reducing learning rate to 0.007499999832361937.\n",
      "\u001b[1m701/701\u001b[0m \u001b[32m━━━━━━━━━━━━━━━━━━━━\u001b[0m\u001b[37m\u001b[0m \u001b[1m1s\u001b[0m 1ms/step - accuracy: 0.1209 - loss: 0.4082 - val_accuracy: 0.1231 - val_loss: 0.4165 - learning_rate: 0.0100\n",
      "Epoch 52/70\n",
      "\u001b[1m701/701\u001b[0m \u001b[32m━━━━━━━━━━━━━━━━━━━━\u001b[0m\u001b[37m\u001b[0m \u001b[1m1s\u001b[0m 2ms/step - accuracy: 0.1227 - loss: 0.4060 - val_accuracy: 0.1283 - val_loss: 0.4168 - learning_rate: 0.0075\n",
      "Epoch 53/70\n",
      "\u001b[1m701/701\u001b[0m \u001b[32m━━━━━━━━━━━━━━━━━━━━\u001b[0m\u001b[37m\u001b[0m \u001b[1m1s\u001b[0m 1ms/step - accuracy: 0.1266 - loss: 0.4077 - val_accuracy: 0.1171 - val_loss: 0.4161 - learning_rate: 0.0075\n",
      "Epoch 54/70\n",
      "\u001b[1m701/701\u001b[0m \u001b[32m━━━━━━━━━━━━━━━━━━━━\u001b[0m\u001b[37m\u001b[0m \u001b[1m1s\u001b[0m 2ms/step - accuracy: 0.1239 - loss: 0.4101 - val_accuracy: 0.1218 - val_loss: 0.4161 - learning_rate: 0.0075\n",
      "Epoch 55/70\n",
      "\u001b[1m701/701\u001b[0m \u001b[32m━━━━━━━━━━━━━━━━━━━━\u001b[0m\u001b[37m\u001b[0m \u001b[1m1s\u001b[0m 1ms/step - accuracy: 0.1223 - loss: 0.4073 - val_accuracy: 0.1206 - val_loss: 0.4159 - learning_rate: 0.0075\n",
      "Epoch 56/70\n",
      "\u001b[1m701/701\u001b[0m \u001b[32m━━━━━━━━━━━━━━━━━━━━\u001b[0m\u001b[37m\u001b[0m \u001b[1m1s\u001b[0m 2ms/step - accuracy: 0.1241 - loss: 0.4086 - val_accuracy: 0.1210 - val_loss: 0.4161 - learning_rate: 0.0075\n",
      "Epoch 57/70\n",
      "\u001b[1m701/701\u001b[0m \u001b[32m━━━━━━━━━━━━━━━━━━━━\u001b[0m\u001b[37m\u001b[0m \u001b[1m1s\u001b[0m 2ms/step - accuracy: 0.1254 - loss: 0.4043 - val_accuracy: 0.1203 - val_loss: 0.4158 - learning_rate: 0.0075\n",
      "Epoch 58/70\n",
      "\u001b[1m701/701\u001b[0m \u001b[32m━━━━━━━━━━━━━━━━━━━━\u001b[0m\u001b[37m\u001b[0m \u001b[1m1s\u001b[0m 1ms/step - accuracy: 0.1255 - loss: 0.4056 - val_accuracy: 0.1256 - val_loss: 0.4160 - learning_rate: 0.0075\n",
      "Epoch 59/70\n",
      "\u001b[1m701/701\u001b[0m \u001b[32m━━━━━━━━━━━━━━━━━━━━\u001b[0m\u001b[37m\u001b[0m \u001b[1m1s\u001b[0m 1ms/step - accuracy: 0.1288 - loss: 0.4103 - val_accuracy: 0.1228 - val_loss: 0.4159 - learning_rate: 0.0075\n",
      "Epoch 60/70\n",
      "\u001b[1m690/701\u001b[0m \u001b[32m━━━━━━━━━━━━━━━━━━━\u001b[0m\u001b[37m━\u001b[0m \u001b[1m0s\u001b[0m 1ms/step - accuracy: 0.1220 - loss: 0.4044\n",
      "Epoch 60: ReduceLROnPlateau reducing learning rate to 0.005624999874271452.\n",
      "\u001b[1m701/701\u001b[0m \u001b[32m━━━━━━━━━━━━━━━━━━━━\u001b[0m\u001b[37m\u001b[0m \u001b[1m1s\u001b[0m 2ms/step - accuracy: 0.1220 - loss: 0.4045 - val_accuracy: 0.1215 - val_loss: 0.4158 - learning_rate: 0.0075\n",
      "Epoch 61/70\n",
      "\u001b[1m701/701\u001b[0m \u001b[32m━━━━━━━━━━━━━━━━━━━━\u001b[0m\u001b[37m\u001b[0m \u001b[1m1s\u001b[0m 2ms/step - accuracy: 0.1255 - loss: 0.4037 - val_accuracy: 0.1217 - val_loss: 0.4157 - learning_rate: 0.0056\n",
      "Epoch 62/70\n",
      "\u001b[1m701/701\u001b[0m \u001b[32m━━━━━━━━━━━━━━━━━━━━\u001b[0m\u001b[37m\u001b[0m \u001b[1m1s\u001b[0m 1ms/step - accuracy: 0.1263 - loss: 0.4076 - val_accuracy: 0.1220 - val_loss: 0.4157 - learning_rate: 0.0056\n",
      "Epoch 63/70\n",
      "\u001b[1m701/701\u001b[0m \u001b[32m━━━━━━━━━━━━━━━━━━━━\u001b[0m\u001b[37m\u001b[0m \u001b[1m1s\u001b[0m 1ms/step - accuracy: 0.1259 - loss: 0.4062 - val_accuracy: 0.1232 - val_loss: 0.4157 - learning_rate: 0.0056\n",
      "Epoch 64/70\n",
      "\u001b[1m693/701\u001b[0m \u001b[32m━━━━━━━━━━━━━━━━━━━\u001b[0m\u001b[37m━\u001b[0m \u001b[1m0s\u001b[0m 1ms/step - accuracy: 0.1266 - loss: 0.4071\n",
      "Epoch 64: ReduceLROnPlateau reducing learning rate to 0.004218749818392098.\n",
      "\u001b[1m701/701\u001b[0m \u001b[32m━━━━━━━━━━━━━━━━━━━━\u001b[0m\u001b[37m\u001b[0m \u001b[1m1s\u001b[0m 2ms/step - accuracy: 0.1265 - loss: 0.4070 - val_accuracy: 0.1210 - val_loss: 0.4156 - learning_rate: 0.0056\n",
      "Epoch 65/70\n",
      "\u001b[1m701/701\u001b[0m \u001b[32m━━━━━━━━━━━━━━━━━━━━\u001b[0m\u001b[37m\u001b[0m \u001b[1m1s\u001b[0m 2ms/step - accuracy: 0.1259 - loss: 0.4037 - val_accuracy: 0.1258 - val_loss: 0.4160 - learning_rate: 0.0042\n",
      "Epoch 66/70\n",
      "\u001b[1m701/701\u001b[0m \u001b[32m━━━━━━━━━━━━━━━━━━━━\u001b[0m\u001b[37m\u001b[0m \u001b[1m1s\u001b[0m 2ms/step - accuracy: 0.1264 - loss: 0.4042 - val_accuracy: 0.1187 - val_loss: 0.4157 - learning_rate: 0.0042\n",
      "Epoch 67/70\n",
      "\u001b[1m685/701\u001b[0m \u001b[32m━━━━━━━━━━━━━━━━━━━\u001b[0m\u001b[37m━\u001b[0m \u001b[1m0s\u001b[0m 1ms/step - accuracy: 0.1216 - loss: 0.4013\n",
      "Epoch 67: ReduceLROnPlateau reducing learning rate to 0.003164062276482582.\n",
      "\u001b[1m701/701\u001b[0m \u001b[32m━━━━━━━━━━━━━━━━━━━━\u001b[0m\u001b[37m\u001b[0m \u001b[1m1s\u001b[0m 2ms/step - accuracy: 0.1217 - loss: 0.4014 - val_accuracy: 0.1296 - val_loss: 0.4162 - learning_rate: 0.0042\n",
      "Epoch 68/70\n",
      "\u001b[1m701/701\u001b[0m \u001b[32m━━━━━━━━━━━━━━━━━━━━\u001b[0m\u001b[37m\u001b[0m \u001b[1m1s\u001b[0m 2ms/step - accuracy: 0.1252 - loss: 0.4050 - val_accuracy: 0.1243 - val_loss: 0.4158 - learning_rate: 0.0032\n",
      "Epoch 69/70\n",
      "\u001b[1m701/701\u001b[0m \u001b[32m━━━━━━━━━━━━━━━━━━━━\u001b[0m\u001b[37m\u001b[0m \u001b[1m1s\u001b[0m 1ms/step - accuracy: 0.1244 - loss: 0.4061 - val_accuracy: 0.1203 - val_loss: 0.4157 - learning_rate: 0.0032\n",
      "Epoch 70/70\n",
      "\u001b[1m697/701\u001b[0m \u001b[32m━━━━━━━━━━━━━━━━━━━\u001b[0m\u001b[37m━\u001b[0m \u001b[1m0s\u001b[0m 1ms/step - accuracy: 0.1230 - loss: 0.4045\n",
      "Epoch 70: ReduceLROnPlateau reducing learning rate to 0.0023730467073619366.\n",
      "\u001b[1m701/701\u001b[0m \u001b[32m━━━━━━━━━━━━━━━━━━━━\u001b[0m\u001b[37m\u001b[0m \u001b[1m1s\u001b[0m 2ms/step - accuracy: 0.1230 - loss: 0.4045 - val_accuracy: 0.1251 - val_loss: 0.4158 - learning_rate: 0.0032\n"
     ]
    }
   ],
   "source": [
    "reduce_lr = tf.keras.callbacks.ReduceLROnPlateau(monitor='val_loss', factor=0.75, patience=3, min_lr=0.000001, verbose=1)\n",
    "\n",
    "history = model.fit(x = X_train_array, y = y_train, batch_size=128, epochs=70, verbose=1, validation_data=(X_test_array, y_test)\n",
    ",shuffle=True,callbacks=[reduce_lr])\n"
   ]
  },
  {
   "cell_type": "code",
   "execution_count": 27,
   "metadata": {
    "colab": {
     "base_uri": "https://localhost:8080/",
     "height": 295
    },
    "id": "Ia_EsnKTur47",
    "outputId": "6e91d112-687e-49a5-9cf3-83395510bfa2"
   },
   "outputs": [
    {
     "data": {
      "image/png": "[encoded data removed]",
      "text/plain": [
       "<Figure size 640x480 with 1 Axes>"
      ]
     },
     "metadata": {},
     "output_type": "display_data"
    }
   ],
   "source": [
    "plt.plot(history.history[\"loss\"][5:])\n",
    "plt.plot(history.history[\"val_loss\"][5:])\n",
    "plt.title(\"model loss\")\n",
    "plt.ylabel(\"loss\")\n",
    "plt.xlabel(\"epoch\")\n",
    "plt.legend([\"train\", \"test\"], loc=\"upper left\")\n",
    "plt.show()"
   ]
  },
  {
   "cell_type": "markdown",
   "metadata": {
    "id": "2VpBSnCPILno"
   },
   "source": [
    "## Getting movies for given User"
   ]
  },
  {
   "cell_type": "code",
   "execution_count": 28,
   "metadata": {
    "colab": {
     "base_uri": "https://localhost:8080/",
     "height": 195
    },
    "id": "qRgSHldIJMLu",
    "outputId": "63f27ff6-1c88-4d8f-ddfa-18e84971bb58"
   },
   "outputs": [
    {
     "data": {
      "text/html": [
       "<div>\n",
       "<style scoped>\n",
       "    .dataframe tbody tr th:only-of-type {\n",
       "        vertical-align: middle;\n",
       "    }\n",
       "\n",
       "    .dataframe tbody tr th {\n",
       "        vertical-align: top;\n",
       "    }\n",
       "\n",
       "    .dataframe thead th {\n",
       "        text-align: right;\n",
       "    }\n",
       "</style>\n",
       "<table border=\"1\" class=\"dataframe\">\n",
       "  <thead>\n",
       "    <tr style=\"text-align: right;\">\n",
       "      <th></th>\n",
       "      <th>user id</th>\n",
       "      <th>movie title</th>\n",
       "      <th>rating</th>\n",
       "      <th>user</th>\n",
       "      <th>movie</th>\n",
       "    </tr>\n",
       "  </thead>\n",
       "  <tbody>\n",
       "    <tr>\n",
       "      <th>0</th>\n",
       "      <td>1</td>\n",
       "      <td>101 Dalmatians (1996)</td>\n",
       "      <td>2.0</td>\n",
       "      <td>0</td>\n",
       "      <td>2</td>\n",
       "    </tr>\n",
       "    <tr>\n",
       "      <th>1</th>\n",
       "      <td>1</td>\n",
       "      <td>12 Angry Men (1957)</td>\n",
       "      <td>5.0</td>\n",
       "      <td>0</td>\n",
       "      <td>3</td>\n",
       "    </tr>\n",
       "    <tr>\n",
       "      <th>2</th>\n",
       "      <td>1</td>\n",
       "      <td>20,000 Leagues Under the Sea (1954)</td>\n",
       "      <td>3.0</td>\n",
       "      <td>0</td>\n",
       "      <td>6</td>\n",
       "    </tr>\n",
       "    <tr>\n",
       "      <th>3</th>\n",
       "      <td>1</td>\n",
       "      <td>2001: A Space Odyssey (1968)</td>\n",
       "      <td>4.0</td>\n",
       "      <td>0</td>\n",
       "      <td>7</td>\n",
       "    </tr>\n",
       "    <tr>\n",
       "      <th>4</th>\n",
       "      <td>1</td>\n",
       "      <td>Abyss, The (1989)</td>\n",
       "      <td>3.0</td>\n",
       "      <td>0</td>\n",
       "      <td>16</td>\n",
       "    </tr>\n",
       "  </tbody>\n",
       "</table>\n",
       "</div>"
      ],
      "text/plain": [
       "   user id                          movie title  rating  user  movie\n",
       "0        1                101 Dalmatians (1996)     2.0     0      2\n",
       "1        1                  12 Angry Men (1957)     5.0     0      3\n",
       "2        1  20,000 Leagues Under the Sea (1954)     3.0     0      6\n",
       "3        1         2001: A Space Odyssey (1968)     4.0     0      7\n",
       "4        1                    Abyss, The (1989)     3.0     0     16"
      ]
     },
     "execution_count": 28,
     "metadata": {},
     "output_type": "execute_result"
    }
   ],
   "source": [
    "refined_dataset.head()"
   ]
  },
  {
   "cell_type": "markdown",
   "metadata": {
    "id": "Xdmw3s6eJjSz"
   },
   "source": [
    "**How this DNN model works is, it takes two inputs, one of the input has user id's and the other has corresponding movie id's. Here DNN model tries to predict the ratings of the user - movie combination. So, we can input a specific user id (broadcasting it with the size of other input) and unseen movie id of the user and expect the model to give the ratings of the movies which would have been the ratings given by the user. Here, the ratings are already normalized and as we need the movies which interest the user more, ratings are not brought back to 0-5 scale.**"
   ]
  },
  {
   "cell_type": "code",
   "execution_count": 29,
   "metadata": {
    "colab": {
     "base_uri": "https://localhost:8080/"
    },
    "id": "A9pFADxRM-SX",
    "outputId": "094cda8f-f537-40f8-a4bb-081f1609debc"
   },
   "outputs": [
    {
     "data": {
      "text/plain": [
       "[array([180, 487, 177, ..., 431, 232, 138], dtype=int64),\n",
       " array([1152,  389,  302, ..., 1588,  399,  612], dtype=int64)]"
      ]
     },
     "execution_count": 29,
     "metadata": {},
     "output_type": "execute_result"
    }
   ],
   "source": [
    "X_train_array"
   ]
  },
  {
   "cell_type": "markdown",
   "metadata": {
    "id": "_5Orqr2yatoT"
   },
   "source": [
    "Above is the model input shape"
   ]
  },
  {
   "cell_type": "code",
   "execution_count": 30,
   "metadata": {
    "colab": {
     "base_uri": "https://localhost:8080/"
    },
    "id": "bKuwDF7pxEgA",
    "outputId": "d87ddc00-2d77-467b-e969-a178b6915885"
   },
   "outputs": [
    {
     "name": "stdout",
     "output_type": "stream",
     "text": [
      "[7, 55, 87, 113, 313, 337, 389, 390, 399, 411, 432, 460, 498, 528, 580, 604, 612, 643, 666, 783, 996, 1005, 1032, 1102, 1132, 1157, 1190, 1208, 1251, 1260, 1284, 1302, 1342, 1523, 1558, 1615]\n"
     ]
    }
   ],
   "source": [
    "\n",
    "user_id = [777]\n",
    "encoded_user_id = user_enc.transform(user_id)\n",
    "\n",
    "seen_movies = list(refined_dataset[refined_dataset['user id'] == user_id[0]]['movie'])\n",
    "print(seen_movies)"
   ]
  },
  {
   "cell_type": "markdown",
   "metadata": {
    "id": "_qMqFifba4Yj"
   },
   "source": [
    "Id's of movies which are already seen by the user are extracted."
   ]
  },
  {
   "cell_type": "code",
   "execution_count": 31,
   "metadata": {
    "colab": {
     "base_uri": "https://localhost:8080/"
    },
    "id": "IjXFgDR4NTkO",
    "outputId": "5d0f7e81-0a74-4937-9d5f-e6bae0b1a710"
   },
   "outputs": [
    {
     "data": {
      "text/plain": [
       "(1664, 0, 1663)"
      ]
     },
     "execution_count": 31,
     "metadata": {},
     "output_type": "execute_result"
    }
   ],
   "source": [
    "len(refined_dataset['movie'].unique()), min(refined_dataset['movie']), max(refined_dataset['movie'])"
   ]
  },
  {
   "cell_type": "markdown",
   "metadata": {
    "id": "Np6LcHMwYTD-"
   },
   "source": [
    "We can understand that the labels are from 0 to 1663. So the movie id's which are not seen by the user can be pciked just by excluding the 'seen_movies' list from the first 1663 natural numbers."
   ]
  },
  {
   "cell_type": "code",
   "execution_count": 32,
   "metadata": {
    "colab": {
     "base_uri": "https://localhost:8080/"
    },
    "id": "i_rRA2ScWFLF",
    "outputId": "91e243ff-bb18-40ca-ca25-b6bbdcbdaa6a"
   },
   "outputs": [
    {
     "name": "stdout",
     "output_type": "stream",
     "text": [
      "[0, 1, 2, 3, 4, 5, 6, 8, 9, 10, 11, 12, 13, 14, 15, 16, 17, 18, 19, 20, 21, 22, 23, 24, 25, 26, 27, 28, 29, 30, 31, 32, 33, 34, 35, 36, 37, 38, 39, 40, 41, 42, 43, 44, 45, 46, 47, 48, 49, 50, 51, 52, 53, 54, 56, 57, 58, 59, 60, 61, 62, 63, 64, 65, 66, 67, 68, 69, 70, 71, 72, 73, 74, 75, 76, 77, 78, 79, 80, 81, 82, 83, 84, 85, 86, 88, 89, 90, 91, 92, 93, 94, 95, 96, 97, 98, 99, 100, 101, 102, 103, 104, 105, 106, 107, 108, 109, 110, 111, 112, 114, 115, 116, 117, 118, 119, 120, 121, 122, 123, 124, 125, 126, 127, 128, 129, 130, 131, 132, 133, 134, 135, 136, 137, 138, 139, 140, 141, 142, 143, 144, 145, 146, 147, 148, 149, 150, 151, 152, 153, 154, 155, 156, 157, 158, 159, 160, 161, 162, 163, 164, 165, 166, 167, 168, 169, 170, 171, 172, 173, 174, 175, 176, 177, 178, 179, 180, 181, 182, 183, 184, 185, 186, 187, 188, 189, 190, 191, 192, 193, 194, 195, 196, 197, 198, 199, 200, 201, 202, 203, 204, 205, 206, 207, 208, 209, 210, 211, 212, 213, 214, 215, 216, 217, 218, 219, 220, 221, 222, 223, 224, 225, 226, 227, 228, 229, 230, 231, 232, 233, 234, 235, 236, 237, 238, 239, 240, 241, 242, 243, 244, 245, 246, 247, 248, 249, 250, 251, 252, 253, 254, 255, 256, 257, 258, 259, 260, 261, 262, 263, 264, 265, 266, 267, 268, 269, 270, 271, 272, 273, 274, 275, 276, 277, 278, 279, 280, 281, 282, 283, 284, 285, 286, 287, 288, 289, 290, 291, 292, 293, 294, 295, 296, 297, 298, 299, 300, 301, 302, 303, 304, 305, 306, 307, 308, 309, 310, 311, 312, 314, 315, 316, 317, 318, 319, 320, 321, 322, 323, 324, 325, 326, 327, 328, 329, 330, 331, 332, 333, 334, 335, 336, 338, 339, 340, 341, 342, 343, 344, 345, 346, 347, 348, 349, 350, 351, 352, 353, 354, 355, 356, 357, 358, 359, 360, 361, 362, 363, 364, 365, 366, 367, 368, 369, 370, 371, 372, 373, 374, 375, 376, 377, 378, 379, 380, 381, 382, 383, 384, 385, 386, 387, 388, 391, 392, 393, 394, 395, 396, 397, 398, 400, 401, 402, 403, 404, 405, 406, 407, 408, 409, 410, 412, 413, 414, 415, 416, 417, 418, 419, 420, 421, 422, 423, 424, 425, 426, 427, 428, 429, 430, 431, 433, 434, 435, 436, 437, 438, 439, 440, 441, 442, 443, 444, 445, 446, 447, 448, 449, 450, 451, 452, 453, 454, 455, 456, 457, 458, 459, 461, 462, 463, 464, 465, 466, 467, 468, 469, 470, 471, 472, 473, 474, 475, 476, 477, 478, 479, 480, 481, 482, 483, 484, 485, 486, 487, 488, 489, 490, 491, 492, 493, 494, 495, 496, 497, 499, 500, 501, 502, 503, 504, 505, 506, 507, 508, 509, 510, 511, 512, 513, 514, 515, 516, 517, 518, 519, 520, 521, 522, 523, 524, 525, 526, 527, 529, 530, 531, 532, 533, 534, 535, 536, 537, 538, 539, 540, 541, 542, 543, 544, 545, 546, 547, 548, 549, 550, 551, 552, 553, 554, 555, 556, 557, 558, 559, 560, 561, 562, 563, 564, 565, 566, 567, 568, 569, 570, 571, 572, 573, 574, 575, 576, 577, 578, 579, 581, 582, 583, 584, 585, 586, 587, 588, 589, 590, 591, 592, 593, 594, 595, 596, 597, 598, 599, 600, 601, 602, 603, 605, 606, 607, 608, 609, 610, 611, 613, 614, 615, 616, 617, 618, 619, 620, 621, 622, 623, 624, 625, 626, 627, 628, 629, 630, 631, 632, 633, 634, 635, 636, 637, 638, 639, 640, 641, 642, 644, 645, 646, 647, 648, 649, 650, 651, 652, 653, 654, 655, 656, 657, 658, 659, 660, 661, 662, 663, 664, 665, 667, 668, 669, 670, 671, 672, 673, 674, 675, 676, 677, 678, 679, 680, 681, 682, 683, 684, 685, 686, 687, 688, 689, 690, 691, 692, 693, 694, 695, 696, 697, 698, 699, 700, 701, 702, 703, 704, 705, 706, 707, 708, 709, 710, 711, 712, 713, 714, 715, 716, 717, 718, 719, 720, 721, 722, 723, 724, 725, 726, 727, 728, 729, 730, 731, 732, 733, 734, 735, 736, 737, 738, 739, 740, 741, 742, 743, 744, 745, 746, 747, 748, 749, 750, 751, 752, 753, 754, 755, 756, 757, 758, 759, 760, 761, 762, 763, 764, 765, 766, 767, 768, 769, 770, 771, 772, 773, 774, 775, 776, 777, 778, 779, 780, 781, 782, 784, 785, 786, 787, 788, 789, 790, 791, 792, 793, 794, 795, 796, 797, 798, 799, 800, 801, 802, 803, 804, 805, 806, 807, 808, 809, 810, 811, 812, 813, 814, 815, 816, 817, 818, 819, 820, 821, 822, 823, 824, 825, 826, 827, 828, 829, 830, 831, 832, 833, 834, 835, 836, 837, 838, 839, 840, 841, 842, 843, 844, 845, 846, 847, 848, 849, 850, 851, 852, 853, 854, 855, 856, 857, 858, 859, 860, 861, 862, 863, 864, 865, 866, 867, 868, 869, 870, 871, 872, 873, 874, 875, 876, 877, 878, 879, 880, 881, 882, 883, 884, 885, 886, 887, 888, 889, 890, 891, 892, 893, 894, 895, 896, 897, 898, 899, 900, 901, 902, 903, 904, 905, 906, 907, 908, 909, 910, 911, 912, 913, 914, 915, 916, 917, 918, 919, 920, 921, 922, 923, 924, 925, 926, 927, 928, 929, 930, 931, 932, 933, 934, 935, 936, 937, 938, 939, 940, 941, 942, 943, 944, 945, 946, 947, 948, 949, 950, 951, 952, 953, 954, 955, 956, 957, 958, 959, 960, 961, 962, 963, 964, 965, 966, 967, 968, 969, 970, 971, 972, 973, 974, 975, 976, 977, 978, 979, 980, 981, 982, 983, 984, 985, 986, 987, 988, 989, 990, 991, 992, 993, 994, 995, 997, 998, 999, 1000, 1001, 1002, 1003, 1004, 1006, 1007, 1008, 1009, 1010, 1011, 1012, 1013, 1014, 1015, 1016, 1017, 1018, 1019, 1020, 1021, 1022, 1023, 1024, 1025, 1026, 1027, 1028, 1029, 1030, 1031, 1033, 1034, 1035, 1036, 1037, 1038, 1039, 1040, 1041, 1042, 1043, 1044, 1045, 1046, 1047, 1048, 1049, 1050, 1051, 1052, 1053, 1054, 1055, 1056, 1057, 1058, 1059, 1060, 1061, 1062, 1063, 1064, 1065, 1066, 1067, 1068, 1069, 1070, 1071, 1072, 1073, 1074, 1075, 1076, 1077, 1078, 1079, 1080, 1081, 1082, 1083, 1084, 1085, 1086, 1087, 1088, 1089, 1090, 1091, 1092, 1093, 1094, 1095, 1096, 1097, 1098, 1099, 1100, 1101, 1103, 1104, 1105, 1106, 1107, 1108, 1109, 1110, 1111, 1112, 1113, 1114, 1115, 1116, 1117, 1118, 1119, 1120, 1121, 1122, 1123, 1124, 1125, 1126, 1127, 1128, 1129, 1130, 1131, 1133, 1134, 1135, 1136, 1137, 1138, 1139, 1140, 1141, 1142, 1143, 1144, 1145, 1146, 1147, 1148, 1149, 1150, 1151, 1152, 1153, 1154, 1155, 1156, 1158, 1159, 1160, 1161, 1162, 1163, 1164, 1165, 1166, 1167, 1168, 1169, 1170, 1171, 1172, 1173, 1174, 1175, 1176, 1177, 1178, 1179, 1180, 1181, 1182, 1183, 1184, 1185, 1186, 1187, 1188, 1189, 1191, 1192, 1193, 1194, 1195, 1196, 1197, 1198, 1199, 1200, 1201, 1202, 1203, 1204, 1205, 1206, 1207, 1209, 1210, 1211, 1212, 1213, 1214, 1215, 1216, 1217, 1218, 1219, 1220, 1221, 1222, 1223, 1224, 1225, 1226, 1227, 1228, 1229, 1230, 1231, 1232, 1233, 1234, 1235, 1236, 1237, 1238, 1239, 1240, 1241, 1242, 1243, 1244, 1245, 1246, 1247, 1248, 1249, 1250, 1252, 1253, 1254, 1255, 1256, 1257, 1258, 1259, 1261, 1262, 1263, 1264, 1265, 1266, 1267, 1268, 1269, 1270, 1271, 1272, 1273, 1274, 1275, 1276, 1277, 1278, 1279, 1280, 1281, 1282, 1283, 1285, 1286, 1287, 1288, 1289, 1290, 1291, 1292, 1293, 1294, 1295, 1296, 1297, 1298, 1299, 1300, 1301, 1303, 1304, 1305, 1306, 1307, 1308, 1309, 1310, 1311, 1312, 1313, 1314, 1315, 1316, 1317, 1318, 1319, 1320, 1321, 1322, 1323, 1324, 1325, 1326, 1327, 1328, 1329, 1330, 1331, 1332, 1333, 1334, 1335, 1336, 1337, 1338, 1339, 1340, 1341, 1343, 1344, 1345, 1346, 1347, 1348, 1349, 1350, 1351, 1352, 1353, 1354, 1355, 1356, 1357, 1358, 1359, 1360, 1361, 1362, 1363, 1364, 1365, 1366, 1367, 1368, 1369, 1370, 1371, 1372, 1373, 1374, 1375, 1376, 1377, 1378, 1379, 1380, 1381, 1382, 1383, 1384, 1385, 1386, 1387, 1388, 1389, 1390, 1391, 1392, 1393, 1394, 1395, 1396, 1397, 1398, 1399, 1400, 1401, 1402, 1403, 1404, 1405, 1406, 1407, 1408, 1409, 1410, 1411, 1412, 1413, 1414, 1415, 1416, 1417, 1418, 1419, 1420, 1421, 1422, 1423, 1424, 1425, 1426, 1427, 1428, 1429, 1430, 1431, 1432, 1433, 1434, 1435, 1436, 1437, 1438, 1439, 1440, 1441, 1442, 1443, 1444, 1445, 1446, 1447, 1448, 1449, 1450, 1451, 1452, 1453, 1454, 1455, 1456, 1457, 1458, 1459, 1460, 1461, 1462, 1463, 1464, 1465, 1466, 1467, 1468, 1469, 1470, 1471, 1472, 1473, 1474, 1475, 1476, 1477, 1478, 1479, 1480, 1481, 1482, 1483, 1484, 1485, 1486, 1487, 1488, 1489, 1490, 1491, 1492, 1493, 1494, 1495, 1496, 1497, 1498, 1499, 1500, 1501, 1502, 1503, 1504, 1505, 1506, 1507, 1508, 1509, 1510, 1511, 1512, 1513, 1514, 1515, 1516, 1517, 1518, 1519, 1520, 1521, 1522, 1524, 1525, 1526, 1527, 1528, 1529, 1530, 1531, 1532, 1533, 1534, 1535, 1536, 1537, 1538, 1539, 1540, 1541, 1542, 1543, 1544, 1545, 1546, 1547, 1548, 1549, 1550, 1551, 1552, 1553, 1554, 1555, 1556, 1557, 1559, 1560, 1561, 1562, 1563, 1564, 1565, 1566, 1567, 1568, 1569, 1570, 1571, 1572, 1573, 1574, 1575, 1576, 1577, 1578, 1579, 1580, 1581, 1582, 1583, 1584, 1585, 1586, 1587, 1588, 1589, 1590, 1591, 1592, 1593, 1594, 1595, 1596, 1597, 1598, 1599, 1600, 1601, 1602, 1603, 1604, 1605, 1606, 1607, 1608, 1609, 1610, 1611, 1612, 1613, 1614, 1616, 1617, 1618, 1619, 1620, 1621, 1622, 1623, 1624, 1625, 1626, 1627, 1628, 1629, 1630, 1631, 1632, 1633, 1634, 1635, 1636, 1637, 1638, 1639, 1640, 1641, 1642, 1643, 1644, 1645, 1646, 1647, 1648, 1649, 1650, 1651, 1652, 1653, 1654, 1655, 1656, 1657, 1658, 1659, 1660, 1661, 1662, 1663]\n"
     ]
    }
   ],
   "source": [
    "unseen_movies = [i for i in range(min(refined_dataset['movie']), max(refined_dataset['movie'])+1) if i not in seen_movies]\n",
    "print(unseen_movies)"
   ]
  },
  {
   "cell_type": "markdown",
   "metadata": {
    "id": "KcspS9SMdJef"
   },
   "source": [
    "Movies which are not seen by the user."
   ]
  },
  {
   "cell_type": "code",
   "execution_count": 33,
   "metadata": {
    "colab": {
     "base_uri": "https://localhost:8080/"
    },
    "id": "mtCDRu3WYCZa",
    "outputId": "48021904-8448-4a42-8503-12ac87cca357"
   },
   "outputs": [
    {
     "data": {
      "text/plain": [
       "1664"
      ]
     },
     "execution_count": 33,
     "metadata": {},
     "output_type": "execute_result"
    }
   ],
   "source": [
    "len(unseen_movies) + len(seen_movies)"
   ]
  },
  {
   "cell_type": "code",
   "execution_count": 34,
   "metadata": {
    "colab": {
     "base_uri": "https://localhost:8080/"
    },
    "id": "qmS6oeujY6fo",
    "outputId": "c0bb5729-431b-47ff-f80c-a5ce7a204206"
   },
   "outputs": [
    {
     "data": {
      "text/plain": [
       "(2, 1628)"
      ]
     },
     "execution_count": 34,
     "metadata": {},
     "output_type": "execute_result"
    }
   ],
   "source": [
    "model_input = [np.asarray(list(encoded_user_id)*len(unseen_movies)), np.asarray(unseen_movies)]\n",
    "len(model_input), len(model_input[0])"
   ]
  },
  {
   "cell_type": "markdown",
   "metadata": {
    "id": "PyRgI_vJdsAp"
   },
   "source": [
    "**DNN model is used to predict the ratings of the unseen movies.**"
   ]
  },
  {
   "cell_type": "code",
   "execution_count": 35,
   "metadata": {
    "id": "mmtIZjAgZSax"
   },
   "outputs": [
    {
     "name": "stdout",
     "output_type": "stream",
     "text": [
      "\u001b[1m51/51\u001b[0m \u001b[32m━━━━━━━━━━━━━━━━━━━━\u001b[0m\u001b[37m\u001b[0m \u001b[1m0s\u001b[0m 2ms/step\n"
     ]
    }
   ],
   "source": [
    "predicted_ratings = model.predict(model_input)"
   ]
  },
  {
   "cell_type": "code",
   "execution_count": 36,
   "metadata": {
    "colab": {
     "base_uri": "https://localhost:8080/"
    },
    "id": "OfKQOn9CZhi9",
    "outputId": "22732ec9-ab60-4e1b-fd1c-778be5710790"
   },
   "outputs": [
    {
     "name": "stdout",
     "output_type": "stream",
     "text": [
      "(1628, 9)\n"
     ]
    }
   ],
   "source": [
    "print(predicted_ratings.shape)"
   ]
  },
  {
   "cell_type": "code",
   "execution_count": 37,
   "metadata": {
    "colab": {
     "base_uri": "https://localhost:8080/"
    },
    "id": "y1IGrVJBaKwb",
    "outputId": "6a5c70e9-c5b5-4364-ec36-2587c40559a4"
   },
   "outputs": [
    {
     "name": "stdout",
     "output_type": "stream",
     "text": [
      "[[5.8408582e-01 4.1572022e-01 2.8086306e-05 ... 2.3730367e-05\n",
      "  1.7543909e-05 2.2751514e-05]\n",
      " [5.5394608e-01 4.4588244e-01 2.5007148e-05 ... 2.0010981e-05\n",
      "  1.4699386e-05 2.0199670e-05]\n",
      " [8.8058847e-01 1.1923005e-01 2.5746640e-05 ... 2.4962283e-05\n",
      "  1.8961817e-05 1.9970210e-05]\n",
      " ...\n",
      " [6.1107403e-01 3.8875192e-01 2.4664416e-05 ... 2.1367656e-05\n",
      "  1.6009586e-05 1.9550029e-05]\n",
      " [5.2993584e-01 4.6989888e-01 2.4147481e-05 ... 1.8898161e-05\n",
      "  1.4192525e-05 1.9261652e-05]\n",
      " [4.9048063e-01 5.0924879e-01 4.1609364e-05 ... 2.9589342e-05\n",
      "  2.2412898e-05 3.2551350e-05]]\n"
     ]
    }
   ],
   "source": [
    "print(predicted_ratings)"
   ]
  },
  {
   "cell_type": "markdown",
   "metadata": {
    "id": "4Uqrx92hd1Yl"
   },
   "source": [
    "Output is of shape (1628, 9). We got probability of each possible rating from 1 to 5. We can extract specific rating which user would have given to a movie but it is not useful for these recommendations now."
   ]
  },
  {
   "cell_type": "code",
   "execution_count": 38,
   "metadata": {
    "colab": {
     "base_uri": "https://localhost:8080/"
    },
    "id": "KNOAYhR0e6-h",
    "outputId": "5f6aea9d-d39f-47f5-99c2-6d6fda8e047b"
   },
   "outputs": [
    {
     "data": {
      "text/plain": [
       "array([0.5840858 , 0.5539461 , 0.8805885 , ..., 0.61107403, 0.52993584,\n",
       "       0.5092488 ], dtype=float32)"
      ]
     },
     "execution_count": 38,
     "metadata": {},
     "output_type": "execute_result"
    }
   ],
   "source": [
    "predicted_ratings = np.max(predicted_ratings, axis=1)\n",
    "predicted_ratings"
   ]
  },
  {
   "cell_type": "code",
   "execution_count": 39,
   "metadata": {
    "colab": {
     "base_uri": "https://localhost:8080/"
    },
    "id": "X_AitEdxe7UB",
    "outputId": "ff5bee9d-73ab-4d84-f94d-c3ded15bf273"
   },
   "outputs": [
    {
     "data": {
      "text/plain": [
       "(1628,)"
      ]
     },
     "execution_count": 39,
     "metadata": {},
     "output_type": "execute_result"
    }
   ],
   "source": [
    "predicted_ratings.shape"
   ]
  },
  {
   "cell_type": "markdown",
   "metadata": {
    "id": "nMyRRTncgMbf"
   },
   "source": [
    "Index of ratings sorted by descending order."
   ]
  },
  {
   "cell_type": "code",
   "execution_count": 40,
   "metadata": {
    "colab": {
     "base_uri": "https://localhost:8080/"
    },
    "id": "ouBCeCapf-UK",
    "outputId": "a0fd1203-cead-4ceb-9035-5a125a967cb3"
   },
   "outputs": [
    {
     "name": "stdout",
     "output_type": "stream",
     "text": [
      "[1445  135  962 ... 1182 1023  832]\n"
     ]
    }
   ],
   "source": [
    "sorted_index = np.argsort(predicted_ratings)[::-1]\n",
    "print(sorted_index)"
   ]
  },
  {
   "cell_type": "markdown",
   "metadata": {
    "id": "1wKHCeFTkROY"
   },
   "source": [
    "**Movie names have been extracted from the available indices we got.**"
   ]
  },
  {
   "cell_type": "code",
   "execution_count": 41,
   "metadata": {
    "colab": {
     "base_uri": "https://localhost:8080/"
    },
    "id": "p6KxPoScf-d6",
    "outputId": "35e94fd4-35e0-4492-a579-7fa51df0a76b"
   },
   "outputs": [
    {
     "data": {
      "text/plain": [
       "array(['Sword in the Stone, The (1963)', 'Baton Rouge (1988)',\n",
       "       'Meet Wally Sparks (1997)', ..., 'Private Parts (1997)',\n",
       "       \"Muriel's Wedding (1994)\", 'Lamerica (1994)'], dtype=object)"
      ]
     },
     "execution_count": 41,
     "metadata": {},
     "output_type": "execute_result"
    }
   ],
   "source": [
    "recommended_movies = item_enc.inverse_transform(sorted_index)\n",
    "recommended_movies"
   ]
  },
  {
   "cell_type": "markdown",
   "metadata": {
    "id": "HaKPES74keEW"
   },
   "source": [
    "## Movies recommended with the help of Softmax Deep Neural Networks"
   ]
  },
  {
   "cell_type": "code",
   "execution_count": 42,
   "metadata": {
    "colab": {
     "base_uri": "https://localhost:8080/"
    },
    "id": "CIIumPFPf-mS",
    "outputId": "0c5edf6d-6ac6-4a14-e669-7b9ddf8b65a2"
   },
   "outputs": [
    {
     "name": "stdout",
     "output_type": "stream",
     "text": [
      "['Sword in the Stone, The (1963)',\n",
      " 'Baton Rouge (1988)',\n",
      " 'Meet Wally Sparks (1997)',\n",
      " 'In the Line of Duty 2 (1987)',\n",
      " 'Conspiracy Theory (1997)',\n",
      " 'Red Firecracker, Green Firecracker (1994)',\n",
      " 'Getaway, The (1994)',\n",
      " 'Striking Distance (1993)',\n",
      " 'Saint, The (1997)',\n",
      " 'Two or Three Things I Know About Her (1966)',\n",
      " 'Diva (1981)',\n",
      " 'Stand by Me (1986)',\n",
      " 'Grosse Fatigue (1994)',\n",
      " 'Jaws 2 (1978)',\n",
      " 'Bride of Frankenstein (1935)',\n",
      " 'Welcome to the Dollhouse (1995)',\n",
      " 'Ballad of Narayama, The (Narayama Bushiko) (1958)',\n",
      " 'This Is Spinal Tap (1984)',\n",
      " 'Bonnie and Clyde (1967)',\n",
      " 'Cemetery Man (Dellamorte Dellamore) (1994)']\n"
     ]
    }
   ],
   "source": [
    "from pprint import pprint\n",
    "pprint(list(recommended_movies[:20]))"
   ]
  },
  {
   "cell_type": "markdown",
   "metadata": {
    "id": "SoXBhPMiku38"
   },
   "source": [
    "## Summing up the entire code into a recommender system function:"
   ]
  },
  {
   "cell_type": "code",
   "execution_count": 43,
   "metadata": {
    "id": "MwBUv7TlkuDn"
   },
   "outputs": [],
   "source": [
    "def recommender_system(user_id, model, n_movies):\n",
    "\n",
    "  print(\"\")\n",
    "  print(\"Movie seen by the User:\")\n",
    "  pprint(list(refined_dataset[refined_dataset['user id'] == user_id]['movie title']))\n",
    "  print(\"\")\n",
    "\n",
    "  encoded_user_id = user_enc.transform([user_id])\n",
    "\n",
    "  seen_movies = list(refined_dataset[refined_dataset['user id'] == user_id]['movie'])\n",
    "  unseen_movies = [i for i in range(min(refined_dataset['movie']), max(refined_dataset['movie'])+1) if i not in seen_movies]\n",
    "  model_input = [np.asarray(list(encoded_user_id)*len(unseen_movies)), np.asarray(unseen_movies)]\n",
    "  predicted_ratings = model.predict(model_input)\n",
    "  predicted_ratings = np.max(predicted_ratings, axis=1)\n",
    "  sorted_index = np.argsort(predicted_ratings)[::-1]\n",
    "  recommended_movies = item_enc.inverse_transform(sorted_index)\n",
    "  print(\"---------------------------------------------------------------------------------\")\n",
    "  print(\"Top \"+str(n_movies)+\" Movie recommendations for the User \"+str(user_id)+ \" are:\")\n",
    "  pprint(list(recommended_movies[:n_movies]))"
   ]
  },
  {
   "cell_type": "code",
   "execution_count": 45,
   "metadata": {
    "colab": {
     "base_uri": "https://localhost:8080/"
    },
    "id": "-qAd6yrukuK_",
    "outputId": "da16c604-2b70-4da3-eff1-9e01d38e4db7"
   },
   "outputs": [
    {
     "name": "stdout",
     "output_type": "stream",
     "text": [
      "Enter user id\n"
     ]
    },
    {
     "name": "stdin",
     "output_type": "stream",
     "text": [
      " 10\n"
     ]
    },
    {
     "name": "stdout",
     "output_type": "stream",
     "text": [
      "Enter number of movies to be recommended:\n"
     ]
    },
    {
     "name": "stdin",
     "output_type": "stream",
     "text": [
      " 25\n"
     ]
    },
    {
     "name": "stdout",
     "output_type": "stream",
     "text": [
      "\n",
      "Movie seen by the User:\n",
      "['12 Angry Men (1957)',\n",
      " '2001: A Space Odyssey (1968)',\n",
      " '39 Steps, The (1935)',\n",
      " 'Abyss, The (1989)',\n",
      " 'African Queen, The (1951)',\n",
      " 'Alice in Wonderland (1951)',\n",
      " 'Alien (1979)',\n",
      " 'Aliens (1986)',\n",
      " 'All About Eve (1950)',\n",
      " 'Amadeus (1984)',\n",
      " 'American President, The (1995)',\n",
      " 'American in Paris, An (1951)',\n",
      " 'Apocalypse Now (1979)',\n",
      " 'Around the World in 80 Days (1956)',\n",
      " 'Bad Moon (1996)',\n",
      " 'Bananas (1971)',\n",
      " 'Barcelona (1994)',\n",
      " 'Basketball Diaries, The (1995)',\n",
      " 'Beauty and the Beast (1991)',\n",
      " 'Being There (1979)',\n",
      " 'Better Off Dead... (1985)',\n",
      " 'Big Night (1996)',\n",
      " 'Big Sleep, The (1946)',\n",
      " 'Blue Angel, The (Blaue Engel, Der) (1930)',\n",
      " 'Blues Brothers, The (1980)',\n",
      " 'Bonnie and Clyde (1967)',\n",
      " 'Boogie Nights (1997)',\n",
      " 'Bound (1996)',\n",
      " 'Braveheart (1995)',\n",
      " 'Brazil (1985)',\n",
      " 'Breaking the Waves (1996)',\n",
      " 'Bridge on the River Kwai, The (1957)',\n",
      " 'Bridges of Madison County, The (1995)',\n",
      " 'Bringing Up Baby (1938)',\n",
      " 'Bronx Tale, A (1993)',\n",
      " 'Browning Version, The (1994)',\n",
      " 'Butch Cassidy and the Sundance Kid (1969)',\n",
      " 'Cape Fear (1991)',\n",
      " 'Carrie (1976)',\n",
      " 'Casablanca (1942)',\n",
      " 'Casino (1995)',\n",
      " 'Cat on a Hot Tin Roof (1958)',\n",
      " 'Chinatown (1974)',\n",
      " 'Cinderella (1950)',\n",
      " 'Cinema Paradiso (1988)',\n",
      " 'Citizen Kane (1941)',\n",
      " 'City Hall (1996)',\n",
      " 'Clockwork Orange, A (1971)',\n",
      " 'Clueless (1995)',\n",
      " 'Cold Comfort Farm (1995)',\n",
      " 'Crumb (1994)',\n",
      " 'Dead Man Walking (1995)',\n",
      " 'Deer Hunter, The (1978)',\n",
      " 'Desperado (1995)',\n",
      " \"Devil's Own, The (1997)\",\n",
      " 'Dial M for Murder (1954)',\n",
      " 'Die Hard (1988)',\n",
      " 'Dirty Dancing (1987)',\n",
      " 'Dr. Strangelove or: How I Learned to Stop Worrying and Love the Bomb (1963)',\n",
      " 'Duck Soup (1933)',\n",
      " 'Emma (1996)',\n",
      " 'Enchanted April (1991)',\n",
      " 'English Patient, The (1996)',\n",
      " 'Everyone Says I Love You (1996)',\n",
      " 'Evita (1996)',\n",
      " 'Fantasia (1940)',\n",
      " 'Fargo (1996)',\n",
      " 'Fish Called Wanda, A (1988)',\n",
      " 'Forrest Gump (1994)',\n",
      " 'Four Weddings and a Funeral (1994)',\n",
      " 'French Twist (Gazon maudit) (1995)',\n",
      " 'Full Monty, The (1997)',\n",
      " 'Game, The (1997)',\n",
      " 'Gandhi (1982)',\n",
      " 'Get Shorty (1995)',\n",
      " 'Gigi (1958)',\n",
      " 'Glengarry Glen Ross (1992)',\n",
      " 'Glory (1989)',\n",
      " 'Godfather, The (1972)',\n",
      " 'Gone with the Wind (1939)',\n",
      " 'GoodFellas (1990)',\n",
      " 'Graduate, The (1967)',\n",
      " 'Heat (1995)',\n",
      " 'Heavenly Creatures (1994)',\n",
      " 'Hoop Dreams (1994)',\n",
      " 'House of the Spirits, The (1993)',\n",
      " 'It Happened One Night (1934)',\n",
      " \"It's a Wonderful Life (1946)\",\n",
      " 'Jaws (1975)',\n",
      " 'Jurassic Park (1993)',\n",
      " 'Kicking and Screaming (1995)',\n",
      " 'L.A. Confidential (1997)',\n",
      " 'Laura (1944)',\n",
      " 'Lawrence of Arabia (1962)',\n",
      " 'Leaving Las Vegas (1995)',\n",
      " 'Liar Liar (1997)',\n",
      " 'Like Water For Chocolate (Como agua para chocolate) (1992)',\n",
      " 'Little Women (1994)',\n",
      " 'Lone Star (1996)',\n",
      " 'M (1931)',\n",
      " 'M*A*S*H (1970)',\n",
      " 'Magnificent Seven, The (1954)',\n",
      " 'Maltese Falcon, The (1941)',\n",
      " 'Man Who Would Be King, The (1975)',\n",
      " 'Manchurian Candidate, The (1962)',\n",
      " 'Miami Rhapsody (1995)',\n",
      " 'Mighty Aphrodite (1995)',\n",
      " \"Miller's Crossing (1990)\",\n",
      " 'Monty Python and the Holy Grail (1974)',\n",
      " 'Mother (1996)',\n",
      " 'My Favorite Year (1982)',\n",
      " 'My Left Foot (1989)',\n",
      " 'My Life as a Dog (Mitt liv som hund) (1985)',\n",
      " 'Nikita (La Femme Nikita) (1990)',\n",
      " 'North by Northwest (1959)',\n",
      " 'Notorious (1946)',\n",
      " 'On Golden Pond (1981)',\n",
      " \"One Flew Over the Cuckoo's Nest (1975)\",\n",
      " 'Paris, Texas (1984)',\n",
      " 'Patton (1970)',\n",
      " 'Perfect World, A (1993)',\n",
      " 'Persuasion (1995)',\n",
      " 'Philadelphia Story, The (1940)',\n",
      " 'Piano, The (1993)',\n",
      " 'Pinocchio (1940)',\n",
      " 'Platoon (1986)',\n",
      " 'Psycho (1960)',\n",
      " 'Pulp Fiction (1994)',\n",
      " 'Raging Bull (1980)',\n",
      " 'Raiders of the Lost Ark (1981)',\n",
      " 'Raising Arizona (1987)',\n",
      " 'Rear Window (1954)',\n",
      " 'Ref, The (1994)',\n",
      " 'Reservoir Dogs (1992)',\n",
      " 'Rosencrantz and Guildenstern Are Dead (1990)',\n",
      " 'Sabrina (1954)',\n",
      " 'Sabrina (1995)',\n",
      " 'Secret of Roan Inish, The (1994)',\n",
      " 'Secrets & Lies (1996)',\n",
      " 'Sense and Sensibility (1995)',\n",
      " 'Seven (Se7en) (1995)',\n",
      " 'Sex, Lies, and Videotape (1989)',\n",
      " 'Shawshank Redemption, The (1994)',\n",
      " 'Shine (1996)',\n",
      " 'Shining, The (1980)',\n",
      " 'Silence of the Lambs, The (1991)',\n",
      " \"Singin' in the Rain (1952)\",\n",
      " 'Sling Blade (1996)',\n",
      " 'Smoke (1995)',\n",
      " 'Snow White and the Seven Dwarfs (1937)',\n",
      " 'Some Like It Hot (1959)',\n",
      " 'Stand by Me (1986)',\n",
      " 'Star Trek IV: The Voyage Home (1986)',\n",
      " 'Star Wars (1977)',\n",
      " 'Sting, The (1973)',\n",
      " 'Strictly Ballroom (1992)',\n",
      " 'Substance of Fire, The (1996)',\n",
      " 'Sunset Blvd. (1950)',\n",
      " 'Taxi Driver (1976)',\n",
      " 'Terminator, The (1984)',\n",
      " 'Thin Man, The (1934)',\n",
      " 'Third Man, The (1949)',\n",
      " 'Three Colors: Blue (1993)',\n",
      " 'Three Colors: Red (1994)',\n",
      " 'Tin Men (1987)',\n",
      " 'To Wong Foo, Thanks for Everything! Julie Newmar (1995)',\n",
      " 'Tombstone (1993)',\n",
      " 'Top Gun (1986)',\n",
      " 'Toy Story (1995)',\n",
      " 'Trainspotting (1996)',\n",
      " 'Treasure of the Sierra Madre, The (1948)',\n",
      " 'True Lies (1994)',\n",
      " 'Twelve Monkeys (1995)',\n",
      " 'U Turn (1997)',\n",
      " 'Unforgiven (1992)',\n",
      " 'Usual Suspects, The (1995)',\n",
      " 'Vertigo (1958)',\n",
      " 'Victor/Victoria (1982)',\n",
      " 'Welcome to the Dollhouse (1995)',\n",
      " 'When Harry Met Sally... (1989)',\n",
      " \"Widows' Peak (1994)\",\n",
      " 'Wild Bunch, The (1969)',\n",
      " 'Wizard of Oz, The (1939)',\n",
      " 'Wonderful, Horrible Life of Leni Riefenstahl, The (1993)']\n",
      "\n",
      "\u001b[1m47/47\u001b[0m \u001b[32m━━━━━━━━━━━━━━━━━━━━\u001b[0m\u001b[37m\u001b[0m \u001b[1m0s\u001b[0m 935us/step\n",
      "---------------------------------------------------------------------------------\n",
      "Top 25 Movie recommendations for the User 10 are:\n",
      "['Shawshank Redemption, The (1994)',\n",
      " 'Dances with Wolves (1990)',\n",
      " 'Little Princess, The (1939)',\n",
      " 'Chain Reaction (1996)',\n",
      " 'Foxfire (1996)',\n",
      " 'Balto (1995)',\n",
      " 'Lord of Illusions (1995)',\n",
      " 'Ruby in Paradise (1993)',\n",
      " 'Flipper (1996)',\n",
      " 'Low Life, The (1994)',\n",
      " 'Terror in a Texas Town (1958)',\n",
      " 'Black Sheep (1996)',\n",
      " 'Rear Window (1954)',\n",
      " 'Dear God (1996)',\n",
      " 'B. Monkey (1998)',\n",
      " \"Smilla's Sense of Snow (1997)\",\n",
      " 'Pompatus of Love, The (1996)',\n",
      " 'Homeward Bound: The Incredible Journey (1993)',\n",
      " 'Heavy (1995)',\n",
      " 'Speechless (1994)',\n",
      " 'Gandhi (1982)',\n",
      " 'M (1931)',\n",
      " 'Strange Days (1995)',\n",
      " 'Island of Dr. Moreau, The (1996)',\n",
      " 'Secret Agent, The (1996)']\n"
     ]
    }
   ],
   "source": [
    "print(\"Enter user id\")\n",
    "user_id= int(input())\n",
    "\n",
    "print(\"Enter number of movies to be recommended:\")\n",
    "n_movies = int(input())\n",
    "recommender_system(user_id,model,n_movies)\n"
   ]
  },
  {
   "cell_type": "code",
   "execution_count": null,
   "metadata": {
    "id": "tsUcbpEfktjP"
   },
   "outputs": [],
   "source": []
  },
  {
   "cell_type": "code",
   "execution_count": null,
   "metadata": {
    "id": "bwlRm9Hie7Fd"
   },
   "outputs": [],
   "source": []
  },
  {
   "cell_type": "code",
   "execution_count": null,
   "metadata": {
    "id": "MjLN1Dd_m14L"
   },
   "outputs": [],
   "source": []
  },
  {
   "cell_type": "markdown",
   "metadata": {
    "id": "XkbzKD0Om2VM"
   },
   "source": [
    "# Rough Work"
   ]
  },
  {
   "cell_type": "code",
   "execution_count": 46,
   "metadata": {
    "colab": {
     "base_uri": "https://localhost:8080/"
    },
    "id": "ICIiS-jwfCdL",
    "outputId": "ec9052d4-c5f9-46d8-a186-a24463234218"
   },
   "outputs": [
    {
     "data": {
      "text/plain": [
       "(array([[ 2,  3, 14,  6],\n",
       "        [ 3,  5,  7,  2],\n",
       "        [ 6,  8,  4,  1]]),\n",
       " (3, 4))"
      ]
     },
     "execution_count": 46,
     "metadata": {},
     "output_type": "execute_result"
    }
   ],
   "source": [
    "a = np.asarray([[2,3,14,6],[3,5,7,2],[6,8,4,1]])\n",
    "a, a.shape"
   ]
  },
  {
   "cell_type": "code",
   "execution_count": 47,
   "metadata": {
    "colab": {
     "base_uri": "https://localhost:8080/"
    },
    "id": "1Sv1WMgdfOkj",
    "outputId": "9750cdcc-0663-41c8-a8d4-81c22815d339"
   },
   "outputs": [
    {
     "data": {
      "text/plain": [
       "(array([14,  7,  8]), (3,))"
      ]
     },
     "execution_count": 47,
     "metadata": {},
     "output_type": "execute_result"
    }
   ],
   "source": [
    "b=np.max(a, axis=1)\n",
    "b, b.shape"
   ]
  },
  {
   "cell_type": "code",
   "execution_count": 48,
   "metadata": {
    "colab": {
     "base_uri": "https://localhost:8080/"
    },
    "id": "67xRASFNfu2p",
    "outputId": "1b812c33-04e1-477e-97bd-d626fa4a4669"
   },
   "outputs": [
    {
     "data": {
      "text/plain": [
       "array([0, 2, 1], dtype=int64)"
      ]
     },
     "execution_count": 48,
     "metadata": {},
     "output_type": "execute_result"
    }
   ],
   "source": [
    "np.argsort(b)[::-1]"
   ]
  },
  {
   "cell_type": "code",
   "execution_count": 49,
   "metadata": {
    "colab": {
     "base_uri": "https://localhost:8080/"
    },
    "id": "PfTQmi93Q7X4",
    "outputId": "fd48d1c0-ef59-4e6c-b78c-98b2acfb37db"
   },
   "outputs": [
    {
     "data": {
      "text/plain": [
       "array([0], dtype=int64)"
      ]
     },
     "execution_count": 49,
     "metadata": {},
     "output_type": "execute_result"
    }
   ],
   "source": [
    "\n",
    "user_enc.transform([1])"
   ]
  },
  {
   "cell_type": "code",
   "execution_count": 50,
   "metadata": {
    "colab": {
     "base_uri": "https://localhost:8080/"
    },
    "id": "5VPBNYx3Rlub",
    "outputId": "6edd0f33-c3a5-4296-a744-6e2ccca4fbb0"
   },
   "outputs": [
    {
     "data": {
      "text/plain": [
       "942"
      ]
     },
     "execution_count": 50,
     "metadata": {},
     "output_type": "execute_result"
    }
   ],
   "source": [
    "max(refined_dataset['user'])"
   ]
  },
  {
   "cell_type": "code",
   "execution_count": null,
   "metadata": {},
   "outputs": [],
   "source": []
  }
 ],
 "metadata": {
  "colab": {
   "authorship_tag": "ABX9TyNEZIZ1oRmoZXi5mI4AT+Ue",
   "collapsed_sections": [],
   "include_colab_link": true,
   "name": "Recommender-System-using-Softmax-DNN.ipynb",
   "provenance": []
  },
  "kernelspec": {
   "display_name": "Python 3 (ipykernel)",
   "language": "python",
   "name": "python3"
  },
  "language_info": {
   "codemirror_mode": {
    "name": "ipython",
    "version": 3
   },
   "file_extension": ".py",
   "mimetype": "text/x-python",
   "name": "python",
   "nbconvert_exporter": "python",
   "pygments_lexer": "ipython3",
   "version": "3.11.4"
  }
 },
 "nbformat": 4,
 "nbformat_minor": 4
}
